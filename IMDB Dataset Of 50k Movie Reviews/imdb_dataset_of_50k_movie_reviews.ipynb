{
 "cells": [
  {
   "cell_type": "markdown",
   "id": "c21e27d3",
   "metadata": {},
   "source": [
    "### Group No: 231\n",
    "\n",
    "### Group Member Names:\n",
    "1. ASHIQUE ZZAMAN (2021sc04612)\n"
   ]
  },
  {
   "cell_type": "markdown",
   "id": "7d63a1b0",
   "metadata": {},
   "source": [
    "##### About the dataset :\n",
    "IMDB dataset having 50K movie reviews for natural language processing or Text analytics.\n",
    "This is a dataset for binary sentiment classification containing substantially more data than previous benchmark datasets. We provide a set of 25,000 highly polar movie reviews for training and 25,000 for testing. So, predict the number of positive and negative reviews using either classification or deep learning algorithms.\n"
   ]
  },
  {
   "cell_type": "markdown",
   "id": "b300f487",
   "metadata": {},
   "source": [
    "##### Installing and importing libraries "
   ]
  },
  {
   "cell_type": "code",
   "execution_count": 1,
   "id": "df5302c7",
   "metadata": {},
   "outputs": [
    {
     "name": "stdout",
     "output_type": "stream",
     "text": [
      "Requirement already satisfied: opendatasets in c:\\users\\ashiq\\appdata\\roaming\\python\\python39\\site-packages (0.1.22)\n",
      "Requirement already satisfied: kaggle in c:\\users\\ashiq\\appdata\\roaming\\python\\python39\\site-packages (from opendatasets) (1.5.13)\n",
      "Requirement already satisfied: tqdm in f:\\edu\\ananconda\\conda_install\\lib\\site-packages (from opendatasets) (4.64.1)\n",
      "Requirement already satisfied: click in f:\\edu\\ananconda\\conda_install\\lib\\site-packages (from opendatasets) (8.0.4)\n",
      "Requirement already satisfied: colorama in f:\\edu\\ananconda\\conda_install\\lib\\site-packages (from click->opendatasets) (0.4.5)\n",
      "Requirement already satisfied: six>=1.10 in f:\\edu\\ananconda\\conda_install\\lib\\site-packages (from kaggle->opendatasets) (1.16.0)\n",
      "Requirement already satisfied: certifi in f:\\edu\\ananconda\\conda_install\\lib\\site-packages (from kaggle->opendatasets) (2022.9.14)\n",
      "Requirement already satisfied: requests in f:\\edu\\ananconda\\conda_install\\lib\\site-packages (from kaggle->opendatasets) (2.28.1)\n",
      "Requirement already satisfied: python-dateutil in f:\\edu\\ananconda\\conda_install\\lib\\site-packages (from kaggle->opendatasets) (2.8.2)\n",
      "Requirement already satisfied: python-slugify in f:\\edu\\ananconda\\conda_install\\lib\\site-packages (from kaggle->opendatasets) (5.0.2)\n",
      "Requirement already satisfied: urllib3 in f:\\edu\\ananconda\\conda_install\\lib\\site-packages (from kaggle->opendatasets) (1.26.11)\n",
      "Requirement already satisfied: text-unidecode>=1.3 in f:\\edu\\ananconda\\conda_install\\lib\\site-packages (from python-slugify->kaggle->opendatasets) (1.3)\n",
      "Requirement already satisfied: idna<4,>=2.5 in f:\\edu\\ananconda\\conda_install\\lib\\site-packages (from requests->kaggle->opendatasets) (3.3)\n",
      "Requirement already satisfied: charset-normalizer<3,>=2 in f:\\edu\\ananconda\\conda_install\\lib\\site-packages (from requests->kaggle->opendatasets) (2.0.4)\n"
     ]
    }
   ],
   "source": [
    "# Installing libraries\n",
    "\n",
    "!pip install opendatasets --user\n"
   ]
  },
  {
   "cell_type": "code",
   "execution_count": 2,
   "id": "627120c2",
   "metadata": {},
   "outputs": [],
   "source": [
    "# Importing libraries\n",
    "\n",
    "import re\n",
    "import string\n",
    "import numpy as np\n",
    "import pandas as pd\n",
    "import seaborn as sns\n",
    "import opendatasets as od\n",
    "import matplotlib.pyplot as plt\n",
    "\n",
    "import nltk\n",
    "from nltk.tokenize.toktok import ToktokTokenizer\n",
    "from nltk.stem import WordNetLemmatizer, SnowballStemmer\n",
    "\n",
    "from sklearn.naive_bayes import MultinomialNB\n",
    "from sklearn.model_selection import train_test_split\n",
    "from sklearn.feature_extraction.text import CountVectorizer\n",
    "from sklearn.metrics import (\n",
    "    roc_curve,\n",
    "    roc_auc_score,\n",
    "    plot_roc_curve,\n",
    "    accuracy_score,\n",
    "    confusion_matrix,\n",
    "    classification_report,\n",
    "    plot_confusion_matrix,\n",
    "    plot_precision_recall_curve\n",
    ")\n",
    "\n",
    "import warnings\n",
    "warnings.filterwarnings('ignore')\n"
   ]
  },
  {
   "cell_type": "code",
   "execution_count": 3,
   "id": "d9c3fea1",
   "metadata": {},
   "outputs": [
    {
     "name": "stderr",
     "output_type": "stream",
     "text": [
      "[nltk_data] Downloading package stopwords to\n",
      "[nltk_data]     C:\\Users\\ashiq\\AppData\\Roaming\\nltk_data...\n",
      "[nltk_data]   Package stopwords is already up-to-date!\n",
      "[nltk_data] Downloading package wordnet to\n",
      "[nltk_data]     C:\\Users\\ashiq\\AppData\\Roaming\\nltk_data...\n",
      "[nltk_data]   Package wordnet is already up-to-date!\n",
      "[nltk_data] Downloading package omw-1.4 to\n",
      "[nltk_data]     C:\\Users\\ashiq\\AppData\\Roaming\\nltk_data...\n",
      "[nltk_data]   Package omw-1.4 is already up-to-date!\n",
      "[nltk_data] Downloading package averaged_perceptron_tagger to\n",
      "[nltk_data]     C:\\Users\\ashiq\\AppData\\Roaming\\nltk_data...\n",
      "[nltk_data]   Package averaged_perceptron_tagger is already up-to-\n",
      "[nltk_data]       date!\n"
     ]
    },
    {
     "data": {
      "text/plain": [
       "True"
      ]
     },
     "execution_count": 3,
     "metadata": {},
     "output_type": "execute_result"
    }
   ],
   "source": [
    "# Downloading nltk data/models\n",
    "\n",
    "nltk.download(\"stopwords\")\n",
    "nltk.download(\"wordnet\")\n",
    "nltk.download(\"omw-1.4\")\n",
    "nltk.download('averaged_perceptron_tagger')\n"
   ]
  },
  {
   "cell_type": "markdown",
   "id": "5517c649",
   "metadata": {},
   "source": [
    "### 1. Read and store all positive reviews in a list called ‘pos’ and all negative reviews in a list called ‘neg’. Create a Dataframe with all reviews under column ‘Review’, add a new column ‘class’ assigning label '1' for positive reviews and '0' for negative reviews (1 Marks)"
   ]
  },
  {
   "cell_type": "code",
   "execution_count": 4,
   "id": "b89deb0f",
   "metadata": {},
   "outputs": [],
   "source": [
    "# Storing url to the dataset in a variable\n",
    "\n",
    "dataset = 'https://www.kaggle.com/lakshmi25npathi/imdb-dataset-of-50k-movie-reviews/data'\n"
   ]
  },
  {
   "cell_type": "code",
   "execution_count": 5,
   "id": "6ae579e0",
   "metadata": {},
   "outputs": [
    {
     "name": "stdout",
     "output_type": "stream",
     "text": [
      "Downloading imdb-dataset-of-50k-movie-reviews.zip to .\\imdb-dataset-of-50k-movie-reviews\n"
     ]
    },
    {
     "name": "stderr",
     "output_type": "stream",
     "text": [
      "100%|████████████████████████████████████████████████████████████████████████████████████████████████████████████████████████████████████████████████████████████████████████| 25.7M/25.7M [00:08<00:00, 3.34MB/s]\n"
     ]
    },
    {
     "name": "stdout",
     "output_type": "stream",
     "text": [
      "\n"
     ]
    }
   ],
   "source": [
    "# Downloading the dataset\n",
    "\n",
    "od.download(dataset)\n"
   ]
  },
  {
   "cell_type": "code",
   "execution_count": 6,
   "id": "982129b2",
   "metadata": {},
   "outputs": [],
   "source": [
    "# Loading the dataset into pandas dataframe\n",
    "\n",
    "df_imdb = pd.read_csv('./imdb-dataset-of-50k-movie-reviews/IMDB Dataset.csv')\n"
   ]
  },
  {
   "cell_type": "code",
   "execution_count": 7,
   "id": "9b7e4261",
   "metadata": {},
   "outputs": [
    {
     "data": {
      "text/html": [
       "<div>\n",
       "<style scoped>\n",
       "    .dataframe tbody tr th:only-of-type {\n",
       "        vertical-align: middle;\n",
       "    }\n",
       "\n",
       "    .dataframe tbody tr th {\n",
       "        vertical-align: top;\n",
       "    }\n",
       "\n",
       "    .dataframe thead th {\n",
       "        text-align: right;\n",
       "    }\n",
       "</style>\n",
       "<table border=\"1\" class=\"dataframe\">\n",
       "  <thead>\n",
       "    <tr style=\"text-align: right;\">\n",
       "      <th></th>\n",
       "      <th>review</th>\n",
       "      <th>sentiment</th>\n",
       "    </tr>\n",
       "  </thead>\n",
       "  <tbody>\n",
       "    <tr>\n",
       "      <th>0</th>\n",
       "      <td>One of the other reviewers has mentioned that ...</td>\n",
       "      <td>positive</td>\n",
       "    </tr>\n",
       "    <tr>\n",
       "      <th>1</th>\n",
       "      <td>A wonderful little production. &lt;br /&gt;&lt;br /&gt;The...</td>\n",
       "      <td>positive</td>\n",
       "    </tr>\n",
       "    <tr>\n",
       "      <th>2</th>\n",
       "      <td>I thought this was a wonderful way to spend ti...</td>\n",
       "      <td>positive</td>\n",
       "    </tr>\n",
       "    <tr>\n",
       "      <th>3</th>\n",
       "      <td>Basically there's a family where a little boy ...</td>\n",
       "      <td>negative</td>\n",
       "    </tr>\n",
       "    <tr>\n",
       "      <th>4</th>\n",
       "      <td>Petter Mattei's \"Love in the Time of Money\" is...</td>\n",
       "      <td>positive</td>\n",
       "    </tr>\n",
       "    <tr>\n",
       "      <th>...</th>\n",
       "      <td>...</td>\n",
       "      <td>...</td>\n",
       "    </tr>\n",
       "    <tr>\n",
       "      <th>49995</th>\n",
       "      <td>I thought this movie did a down right good job...</td>\n",
       "      <td>positive</td>\n",
       "    </tr>\n",
       "    <tr>\n",
       "      <th>49996</th>\n",
       "      <td>Bad plot, bad dialogue, bad acting, idiotic di...</td>\n",
       "      <td>negative</td>\n",
       "    </tr>\n",
       "    <tr>\n",
       "      <th>49997</th>\n",
       "      <td>I am a Catholic taught in parochial elementary...</td>\n",
       "      <td>negative</td>\n",
       "    </tr>\n",
       "    <tr>\n",
       "      <th>49998</th>\n",
       "      <td>I'm going to have to disagree with the previou...</td>\n",
       "      <td>negative</td>\n",
       "    </tr>\n",
       "    <tr>\n",
       "      <th>49999</th>\n",
       "      <td>No one expects the Star Trek movies to be high...</td>\n",
       "      <td>negative</td>\n",
       "    </tr>\n",
       "  </tbody>\n",
       "</table>\n",
       "<p>50000 rows × 2 columns</p>\n",
       "</div>"
      ],
      "text/plain": [
       "                                                  review sentiment\n",
       "0      One of the other reviewers has mentioned that ...  positive\n",
       "1      A wonderful little production. <br /><br />The...  positive\n",
       "2      I thought this was a wonderful way to spend ti...  positive\n",
       "3      Basically there's a family where a little boy ...  negative\n",
       "4      Petter Mattei's \"Love in the Time of Money\" is...  positive\n",
       "...                                                  ...       ...\n",
       "49995  I thought this movie did a down right good job...  positive\n",
       "49996  Bad plot, bad dialogue, bad acting, idiotic di...  negative\n",
       "49997  I am a Catholic taught in parochial elementary...  negative\n",
       "49998  I'm going to have to disagree with the previou...  negative\n",
       "49999  No one expects the Star Trek movies to be high...  negative\n",
       "\n",
       "[50000 rows x 2 columns]"
      ]
     },
     "execution_count": 7,
     "metadata": {},
     "output_type": "execute_result"
    }
   ],
   "source": [
    "# Displaying the loaded data\n",
    "\n",
    "df_imdb\n"
   ]
  },
  {
   "cell_type": "markdown",
   "id": "226c7498",
   "metadata": {},
   "source": [
    "##### Statistical analysis performed below where we checking the amount of data present in either of the sentiments"
   ]
  },
  {
   "cell_type": "code",
   "execution_count": 8,
   "id": "3e12a1f6",
   "metadata": {},
   "outputs": [
    {
     "data": {
      "text/plain": [
       "positive    25000\n",
       "negative    25000\n",
       "Name: sentiment, dtype: int64"
      ]
     },
     "execution_count": 8,
     "metadata": {},
     "output_type": "execute_result"
    }
   ],
   "source": [
    "# Checking the percentage of reviews are positive  and negative\n",
    "\n",
    "df_imdb.sentiment.value_counts()\n"
   ]
  },
  {
   "cell_type": "code",
   "execution_count": 9,
   "id": "c8797471",
   "metadata": {},
   "outputs": [
    {
     "data": {
      "text/plain": [
       "<AxesSubplot:xlabel='sentiment', ylabel='count'>"
      ]
     },
     "execution_count": 9,
     "metadata": {},
     "output_type": "execute_result"
    },
    {
     "data": {
      "image/png": "[encoded data removed]",
      "text/plain": [
       "<Figure size 640x480 with 1 Axes>"
      ]
     },
     "metadata": {},
     "output_type": "display_data"
    }
   ],
   "source": [
    "# Ploting distribution for easier understanding\n",
    "\n",
    "sns.countplot(x = df_imdb['sentiment'])\n"
   ]
  },
  {
   "cell_type": "markdown",
   "id": "43520220",
   "metadata": {},
   "source": [
    "The dataset is perfectly balanced."
   ]
  },
  {
   "cell_type": "code",
   "execution_count": 10,
   "id": "2b1e89f6",
   "metadata": {},
   "outputs": [
    {
     "data": {
      "text/plain": [
       "review       0\n",
       "sentiment    0\n",
       "dtype: int64"
      ]
     },
     "execution_count": 10,
     "metadata": {},
     "output_type": "execute_result"
    }
   ],
   "source": [
    "# Checking for any missing values\n",
    "\n",
    "df_imdb.isna().sum()\n"
   ]
  },
  {
   "cell_type": "markdown",
   "id": "032a540c",
   "metadata": {},
   "source": [
    "There is no missing value in the dataset"
   ]
  },
  {
   "cell_type": "markdown",
   "id": "f745d7ee",
   "metadata": {},
   "source": [
    "##### Storing all positive reviews in a list called ‘pos’ and all negative reviews in a list called ‘neg’"
   ]
  },
  {
   "cell_type": "code",
   "execution_count": 11,
   "id": "9121fad9",
   "metadata": {},
   "outputs": [],
   "source": [
    "# Storing postive reviews in 'pos' list and negative reviews in 'neg' list\n",
    "\n",
    "pos = df_imdb['review'].loc[df_imdb['sentiment'] == 'positive'].tolist()\n",
    "neg = df_imdb['review'].loc[df_imdb['sentiment'] == 'negative'].tolist()\n"
   ]
  },
  {
   "cell_type": "code",
   "execution_count": 12,
   "id": "2e71dc25",
   "metadata": {},
   "outputs": [
    {
     "name": "stdout",
     "output_type": "stream",
     "text": [
      "25000\n",
      "25000\n"
     ]
    }
   ],
   "source": [
    "# Printing list count\n",
    "\n",
    "print(len(pos))\n",
    "print(len(neg))\n"
   ]
  },
  {
   "cell_type": "code",
   "execution_count": 13,
   "id": "a272ec3c",
   "metadata": {},
   "outputs": [
    {
     "name": "stdout",
     "output_type": "stream",
     "text": [
      "Positive reviews :\n"
     ]
    },
    {
     "data": {
      "text/plain": [
       "[\"One of the other reviewers has mentioned that after watching just 1 Oz episode you'll be hooked. They are right, as this is exactly what happened with me.<br /><br />The first thing that struck me about Oz was its brutality and unflinching scenes of violence, which set in right from the word GO. Trust me, this is not a show for the faint hearted or timid. This show pulls no punches with regards to drugs, sex or violence. Its is hardcore, in the classic use of the word.<br /><br />It is called OZ as that is the nickname given to the Oswald Maximum Security State Penitentary. It focuses mainly on Emerald City, an experimental section of the prison where all the cells have glass fronts and face inwards, so privacy is not high on the agenda. Em City is home to many..Aryans, Muslims, gangstas, Latinos, Christians, Italians, Irish and more....so scuffles, death stares, dodgy dealings and shady agreements are never far away.<br /><br />I would say the main appeal of the show is due to the fact that it goes where other shows wouldn't dare. Forget pretty pictures painted for mainstream audiences, forget charm, forget romance...OZ doesn't mess around. The first episode I ever saw struck me as so nasty it was surreal, I couldn't say I was ready for it, but as I watched more, I developed a taste for Oz, and got accustomed to the high levels of graphic violence. Not just violence, but injustice (crooked guards who'll be sold out for a nickel, inmates who'll kill on order and get away with it, well mannered, middle class inmates being turned into prison bitches due to their lack of street skills or prison experience) Watching Oz, you may become comfortable with what is uncomfortable viewing....thats if you can get in touch with your darker side.\",\n",
       " 'A wonderful little production. <br /><br />The filming technique is very unassuming- very old-time-BBC fashion and gives a comforting, and sometimes discomforting, sense of realism to the entire piece. <br /><br />The actors are extremely well chosen- Michael Sheen not only \"has got all the polari\" but he has all the voices down pat too! You can truly see the seamless editing guided by the references to Williams\\' diary entries, not only is it well worth the watching but it is a terrificly written and performed piece. A masterful production about one of the great master\\'s of comedy and his life. <br /><br />The realism really comes home with the little things: the fantasy of the guard which, rather than use the traditional \\'dream\\' techniques remains solid then disappears. It plays on our knowledge and our senses, particularly with the scenes concerning Orton and Halliwell and the sets (particularly of their flat with Halliwell\\'s murals decorating every surface) are terribly well done.',\n",
       " 'I thought this was a wonderful way to spend time on a too hot summer weekend, sitting in the air conditioned theater and watching a light-hearted comedy. The plot is simplistic, but the dialogue is witty and the characters are likable (even the well bread suspected serial killer). While some may be disappointed when they realize this is not Match Point 2: Risk Addiction, I thought it was proof that Woody Allen is still fully in control of the style many of us have grown to love.<br /><br />This was the most I\\'d laughed at one of Woody\\'s comedies in years (dare I say a decade?). While I\\'ve never been impressed with Scarlet Johanson, in this she managed to tone down her \"sexy\" image and jumped right into a average, but spirited young woman.<br /><br />This may not be the crown jewel of his career, but it was wittier than \"Devil Wears Prada\" and more interesting than \"Superman\" a great comedy to go see with friends.']"
      ]
     },
     "execution_count": 13,
     "metadata": {},
     "output_type": "execute_result"
    }
   ],
   "source": [
    "# Printing first 3 element from the list 'pos' as sample checking\n",
    "\n",
    "print(\"Positive reviews :\")\n",
    "pos[:3]\n"
   ]
  },
  {
   "cell_type": "code",
   "execution_count": 14,
   "id": "0743457d",
   "metadata": {},
   "outputs": [
    {
     "name": "stdout",
     "output_type": "stream",
     "text": [
      "Negative reviews :\n"
     ]
    },
    {
     "data": {
      "text/plain": [
       "[\"Basically there's a family where a little boy (Jake) thinks there's a zombie in his closet & his parents are fighting all the time.<br /><br />This movie is slower than a soap opera... and suddenly, Jake decides to become Rambo and kill the zombie.<br /><br />OK, first of all when you're going to make a film you must Decide if its a thriller or a drama! As a drama the movie is watchable. Parents are divorcing & arguing like in real life. And then we have Jake with his closet which totally ruins all the film! I expected to see a BOOGEYMAN similar movie, and instead i watched a drama with some meaningless thriller spots.<br /><br />3 out of 10 just for the well playing parents & descent dialogs. As for the shots with Jake: just ignore them.\",\n",
       " \"This show was an amazing, fresh & innovative idea in the 70's when it first aired. The first 7 or 8 years were brilliant, but things dropped off after that. By 1990, the show was not really funny anymore, and it's continued its decline further to the complete waste of time it is today.<br /><br />It's truly disgraceful how far this show has fallen. The writing is painfully bad, the performances are almost as bad - if not for the mildly entertaining respite of the guest-hosts, this show probably wouldn't still be on the air. I find it so hard to believe that the same creator that hand-selected the original cast also chose the band of hacks that followed. How can one recognize such brilliance and then see fit to replace it with such mediocrity? I felt I must give 2 stars out of respect for the original cast that made this show such a huge success. As it is now, the show is just awful. I can't believe it's still on the air.\",\n",
       " \"Encouraged by the positive comments about this film on here I was looking forward to watching this film. Bad mistake. I've seen 950+ films and this is truly one of the worst of them - it's awful in almost every way: editing, pacing, storyline, 'acting,' soundtrack (the film's only song - a lame country tune - is played no less than four times). The film looks cheap and nasty and is boring in the extreme. Rarely have I been so happy to see the end credits of a film. <br /><br />The only thing that prevents me giving this a 1-score is Harvey Keitel - while this is far from his best performance he at least seems to be making a bit of an effort. One for Keitel obsessives only.\"]"
      ]
     },
     "execution_count": 14,
     "metadata": {},
     "output_type": "execute_result"
    }
   ],
   "source": [
    "# Printing first 3 element from the list 'neg' as sample checking\n",
    "\n",
    "print(\"Negative reviews :\")\n",
    "neg[:3]\n"
   ]
  },
  {
   "cell_type": "code",
   "execution_count": 15,
   "id": "b657b676",
   "metadata": {},
   "outputs": [
    {
     "data": {
      "text/html": [
       "<div>\n",
       "<style scoped>\n",
       "    .dataframe tbody tr th:only-of-type {\n",
       "        vertical-align: middle;\n",
       "    }\n",
       "\n",
       "    .dataframe tbody tr th {\n",
       "        vertical-align: top;\n",
       "    }\n",
       "\n",
       "    .dataframe thead th {\n",
       "        text-align: right;\n",
       "    }\n",
       "</style>\n",
       "<table border=\"1\" class=\"dataframe\">\n",
       "  <thead>\n",
       "    <tr style=\"text-align: right;\">\n",
       "      <th></th>\n",
       "      <th>review</th>\n",
       "      <th>sentiment</th>\n",
       "      <th>class</th>\n",
       "    </tr>\n",
       "  </thead>\n",
       "  <tbody>\n",
       "    <tr>\n",
       "      <th>0</th>\n",
       "      <td>One of the other reviewers has mentioned that ...</td>\n",
       "      <td>positive</td>\n",
       "      <td>1</td>\n",
       "    </tr>\n",
       "    <tr>\n",
       "      <th>1</th>\n",
       "      <td>A wonderful little production. &lt;br /&gt;&lt;br /&gt;The...</td>\n",
       "      <td>positive</td>\n",
       "      <td>1</td>\n",
       "    </tr>\n",
       "    <tr>\n",
       "      <th>2</th>\n",
       "      <td>I thought this was a wonderful way to spend ti...</td>\n",
       "      <td>positive</td>\n",
       "      <td>1</td>\n",
       "    </tr>\n",
       "    <tr>\n",
       "      <th>3</th>\n",
       "      <td>Basically there's a family where a little boy ...</td>\n",
       "      <td>negative</td>\n",
       "      <td>0</td>\n",
       "    </tr>\n",
       "    <tr>\n",
       "      <th>4</th>\n",
       "      <td>Petter Mattei's \"Love in the Time of Money\" is...</td>\n",
       "      <td>positive</td>\n",
       "      <td>1</td>\n",
       "    </tr>\n",
       "    <tr>\n",
       "      <th>...</th>\n",
       "      <td>...</td>\n",
       "      <td>...</td>\n",
       "      <td>...</td>\n",
       "    </tr>\n",
       "    <tr>\n",
       "      <th>49995</th>\n",
       "      <td>I thought this movie did a down right good job...</td>\n",
       "      <td>positive</td>\n",
       "      <td>1</td>\n",
       "    </tr>\n",
       "    <tr>\n",
       "      <th>49996</th>\n",
       "      <td>Bad plot, bad dialogue, bad acting, idiotic di...</td>\n",
       "      <td>negative</td>\n",
       "      <td>0</td>\n",
       "    </tr>\n",
       "    <tr>\n",
       "      <th>49997</th>\n",
       "      <td>I am a Catholic taught in parochial elementary...</td>\n",
       "      <td>negative</td>\n",
       "      <td>0</td>\n",
       "    </tr>\n",
       "    <tr>\n",
       "      <th>49998</th>\n",
       "      <td>I'm going to have to disagree with the previou...</td>\n",
       "      <td>negative</td>\n",
       "      <td>0</td>\n",
       "    </tr>\n",
       "    <tr>\n",
       "      <th>49999</th>\n",
       "      <td>No one expects the Star Trek movies to be high...</td>\n",
       "      <td>negative</td>\n",
       "      <td>0</td>\n",
       "    </tr>\n",
       "  </tbody>\n",
       "</table>\n",
       "<p>50000 rows × 3 columns</p>\n",
       "</div>"
      ],
      "text/plain": [
       "                                                  review sentiment  class\n",
       "0      One of the other reviewers has mentioned that ...  positive      1\n",
       "1      A wonderful little production. <br /><br />The...  positive      1\n",
       "2      I thought this was a wonderful way to spend ti...  positive      1\n",
       "3      Basically there's a family where a little boy ...  negative      0\n",
       "4      Petter Mattei's \"Love in the Time of Money\" is...  positive      1\n",
       "...                                                  ...       ...    ...\n",
       "49995  I thought this movie did a down right good job...  positive      1\n",
       "49996  Bad plot, bad dialogue, bad acting, idiotic di...  negative      0\n",
       "49997  I am a Catholic taught in parochial elementary...  negative      0\n",
       "49998  I'm going to have to disagree with the previou...  negative      0\n",
       "49999  No one expects the Star Trek movies to be high...  negative      0\n",
       "\n",
       "[50000 rows x 3 columns]"
      ]
     },
     "execution_count": 15,
     "metadata": {},
     "output_type": "execute_result"
    }
   ],
   "source": [
    "# Inserting a column class to dataset that represent sentiment as numeric values\n",
    "\n",
    "df_imdb['class'] = df_imdb['sentiment'].apply(lambda x:1 if x == 'positive' else 0)\n",
    "df_imdb\n"
   ]
  },
  {
   "cell_type": "markdown",
   "id": "63beb5e1",
   "metadata": {},
   "source": [
    "##### Inferences :\n",
    "\n",
    "The following can be inferred from the data -\n",
    "\n",
    "1. The dataset is balanced.\n",
    "2. The dataset contains no missing value.\n",
    "3. The dataset contains equal number of semantics for reviews of both polarity.\n"
   ]
  },
  {
   "cell_type": "markdown",
   "id": "0e42e87e",
   "metadata": {},
   "source": [
    "### 2. Remove punctuations and stopwords from the text in ‘Review’ column (2 Marks)"
   ]
  },
  {
   "cell_type": "markdown",
   "id": "ea3db9d7",
   "metadata": {},
   "source": [
    "#### Cleaning or pre-processing the data is as important as model building if not more and when it comes to text data, this process is of most importance. IMDB reviews are posted by users manually or collected from other sites, so we observe usage of many punctuations and stop words in dataset.\n",
    "\n",
    "<b>1. Removal Of Punctuations :</b> In this process, we remove the punctuations (!\"#$%&\\'()*+,-./:;<=>?@[\\]^_`{|}~) from the text data. This is a text standardization process that will help to treat 'hurray' and 'hurray!' in the same way.\n",
    "\n",
    "\n",
    "<b>2. Removal Of Stop Words :</b> Stopwords are commonly occuring words in a language like 'the', 'a' and so on. These words are considered \"stop\" words because they do not carry significant meaning on their own and are often used to connect other words in a sentence. Examples of stopwords in English include: \"a\", \"an\", \"the\",\"and\", \"or\", \"but\",\"in\",\"on\", \"at\",\"is\", \"was\", \"were\",\"to\", \"from\", \"for\".\n",
    "\n"
   ]
  },
  {
   "cell_type": "code",
   "execution_count": 16,
   "id": "4ea9d4cc",
   "metadata": {},
   "outputs": [],
   "source": [
    "# Setting English stopwords\n",
    "\n",
    "stopword_list = nltk.corpus.stopwords.words('english')\n",
    "\n",
    "# Tokenization of text\n",
    "\n",
    "tokenizer = ToktokTokenizer()\n"
   ]
  },
  {
   "cell_type": "code",
   "execution_count": 17,
   "id": "2149df53",
   "metadata": {},
   "outputs": [],
   "source": [
    "# Removing punctuations\n",
    "\n",
    "exclude = string.punctuation\n",
    "\n",
    "def remove_punc(text):\n",
    "    text = text.translate(str.maketrans('','',exclude))\n",
    "    return text\n"
   ]
  },
  {
   "cell_type": "code",
   "execution_count": 18,
   "id": "50a792b2",
   "metadata": {},
   "outputs": [],
   "source": [
    "# Removing the stopwords\n",
    "\n",
    "def remove_stopwords(text):\n",
    "    tokens = tokenizer.tokenize(text)\n",
    "    tokens = [token.strip() for token in tokens]\n",
    "    filtered_tokens = [token for token in tokens if token.lower() not in stopword_list]\n",
    "    filtered_text = ' '.join(filtered_tokens)    \n",
    "    return filtered_text\n"
   ]
  },
  {
   "cell_type": "code",
   "execution_count": 19,
   "id": "ea93c574",
   "metadata": {},
   "outputs": [
    {
     "data": {
      "text/plain": [
       "0        One of the other reviewers has mentioned that ...\n",
       "1        A wonderful little production. <br /><br />The...\n",
       "2        I thought this was a wonderful way to spend ti...\n",
       "3        Basically there's a family where a little boy ...\n",
       "4        Petter Mattei's \"Love in the Time of Money\" is...\n",
       "                               ...                        \n",
       "49995    I thought this movie did a down right good job...\n",
       "49996    Bad plot, bad dialogue, bad acting, idiotic di...\n",
       "49997    I am a Catholic taught in parochial elementary...\n",
       "49998    I'm going to have to disagree with the previou...\n",
       "49999    No one expects the Star Trek movies to be high...\n",
       "Name: review, Length: 50000, dtype: object"
      ]
     },
     "execution_count": 19,
     "metadata": {},
     "output_type": "execute_result"
    }
   ],
   "source": [
    "# Displaying review column from dataframe - before removing punctuations and stopwords\n",
    "\n",
    "df_imdb['review']\n"
   ]
  },
  {
   "cell_type": "code",
   "execution_count": 20,
   "id": "01b34b32",
   "metadata": {},
   "outputs": [],
   "source": [
    "# Applying functions to the dataframe for removal of punctuations and stopwords\n",
    "\n",
    "df_imdb['review']=df_imdb['review'].apply(remove_punc)\n",
    "df_imdb['review']=df_imdb['review'].apply(remove_stopwords)\n"
   ]
  },
  {
   "cell_type": "code",
   "execution_count": 21,
   "id": "239d4011",
   "metadata": {},
   "outputs": [
    {
     "data": {
      "text/plain": [
       "0        One reviewers mentioned watching 1 Oz episode ...\n",
       "1        wonderful little production br br filming tech...\n",
       "2        thought wonderful way spend time hot summer we...\n",
       "3        Basically theres family little boy Jake thinks...\n",
       "4        Petter Matteis Love Time Money visually stunni...\n",
       "                               ...                        \n",
       "49995    thought movie right good job wasnt creative or...\n",
       "49996    Bad plot bad dialogue bad acting idiotic direc...\n",
       "49997    Catholic taught parochial elementary schools n...\n",
       "49998    Im going disagree previous comment side Maltin...\n",
       "49999    one expects Star Trek movies high art fans exp...\n",
       "Name: review, Length: 50000, dtype: object"
      ]
     },
     "execution_count": 21,
     "metadata": {},
     "output_type": "execute_result"
    }
   ],
   "source": [
    "# Displaying review column from dataframe - after removing punctuations and stopwords\n",
    "\n",
    "df_imdb['review']\n"
   ]
  },
  {
   "cell_type": "markdown",
   "id": "1ea3a92c",
   "metadata": {},
   "source": [
    "### 3. Normalize Sentence column by using Stemming or Lemmatization. Techniques used without justification will not be awarded marks. (2 Marks)"
   ]
  },
  {
   "cell_type": "markdown",
   "id": "4c72b9d6",
   "metadata": {},
   "source": [
    "#### Text normalization :\n",
    "#### For grammatical reasons, there are going to be different forms of a word being used, such as write, writing and writes. Additionally, there are families of derivationally related words with similar meanings. The goal of both stemming and lemmatization is to reduce inflectional forms and sometimes derivationally related forms of a word to a common base form.\n",
    "\n",
    "<b>1. Stemming :</b> Stemming means mapping a group of words to the same stem by removing prefixes or suffixes without giving any value to the “grammatical meaning” of the stem formed after the process.\n",
    "\n",
    "In simple terms, stemming refers to a process that chops off the ends of words in the hope of achieving goal correctly most of the time and often includes the removal of derivational affixes.\n",
    "\n",
    "<b>2. Lemmatization :</b> Lemmatization also does the same thing as stemming and tries to bring a word to its base form, but unlike stemming it does keep into account the actual meaning of the base word.\n",
    "\n",
    "In simple terms, Lemmatization refers to doing things properly with the use of a vocabulary and morphological analysis of words, normally aiming to remove inflectional endings only and to return the base and dictionary form of a word"
   ]
  },
  {
   "cell_type": "code",
   "execution_count": 22,
   "id": "92d6b620",
   "metadata": {},
   "outputs": [
    {
     "data": {
      "text/plain": [
       "'wonderful little production br br filming technique unassuming oldtimeBBC fashion gives comforting sometimes discomforting sense realism entire piece br br actors extremely well chosen Michael Sheen got polari voices pat truly see seamless editing guided references Williams diary entries well worth watching terrificly written performed piece masterful production one great masters comedy life br br realism really comes home little things fantasy guard rather use traditional dream techniques remains solid disappears plays knowledge senses particularly scenes concerning Orton Halliwell sets particularly flat Halliwells murals decorating every surface terribly well done'"
      ]
     },
     "execution_count": 22,
     "metadata": {},
     "output_type": "execute_result"
    }
   ],
   "source": [
    "# Displaying review column for a single record from dataframe - before applying text normalization\n",
    "\n",
    "df_imdb['review'][1]\n"
   ]
  },
  {
   "cell_type": "code",
   "execution_count": 23,
   "id": "1f57ff47",
   "metadata": {},
   "outputs": [],
   "source": [
    "def sball_stemmer(text):\n",
    "    ss = SnowballStemmer(language='english')\n",
    "    text = ' '.join([ss.stem(word) for word in tokenizer.tokenize(text)])\n",
    "    return text\n"
   ]
  },
  {
   "cell_type": "code",
   "execution_count": 24,
   "id": "fe8f4486",
   "metadata": {},
   "outputs": [
    {
     "name": "stdout",
     "output_type": "stream",
     "text": [
      "Wall time: 2 ms\n"
     ]
    },
    {
     "data": {
      "text/plain": [
       "'wonder littl product br br film techniqu unassum oldtimebbc fashion give comfort sometim discomfort sens realism entir piec br br actor extrem well chosen michael sheen got polari voic pat truli see seamless edit guid refer william diari entri well worth watch terrif written perform piec master product one great master comedi life br br realism realli come home littl thing fantasi guard rather use tradit dream techniqu remain solid disappear play knowledg sens particular scene concern orton halliwel set particular flat halliwel mural decor everi surfac terribl well done'"
      ]
     },
     "execution_count": 24,
     "metadata": {},
     "output_type": "execute_result"
    }
   ],
   "source": [
    "# Displaying review column for a single record from dataframe - after applying stemming. Also displaying time \n",
    "\n",
    "%time sball_stemmer(df_imdb['review'][1])\n"
   ]
  },
  {
   "cell_type": "code",
   "execution_count": 25,
   "id": "ee544d0c",
   "metadata": {},
   "outputs": [],
   "source": [
    "def wnet_lemmatization(text):\n",
    "    wl = WordNetLemmatizer()\n",
    "    text = ' '.join([wl.lemmatize(word) for word in tokenizer.tokenize(text)])\n",
    "    return text\n"
   ]
  },
  {
   "cell_type": "code",
   "execution_count": 26,
   "id": "88ba8e4b",
   "metadata": {},
   "outputs": [
    {
     "name": "stdout",
     "output_type": "stream",
     "text": [
      "Wall time: 1.91 s\n"
     ]
    },
    {
     "data": {
      "text/plain": [
       "'wonderful little production br br filming technique unassuming oldtimeBBC fashion give comforting sometimes discomforting sense realism entire piece br br actor extremely well chosen Michael Sheen got polari voice pat truly see seamless editing guided reference Williams diary entry well worth watching terrificly written performed piece masterful production one great master comedy life br br realism really come home little thing fantasy guard rather use traditional dream technique remains solid disappears play knowledge sens particularly scene concerning Orton Halliwell set particularly flat Halliwells mural decorating every surface terribly well done'"
      ]
     },
     "execution_count": 26,
     "metadata": {},
     "output_type": "execute_result"
    }
   ],
   "source": [
    "# Displaying review column for a single record from dataframe - after applying lemmatization\n",
    "\n",
    "%time wnet_lemmatization(df_imdb['review'][1])\n"
   ]
  },
  {
   "cell_type": "markdown",
   "id": "08642714",
   "metadata": {},
   "source": [
    "##### Observations : \n",
    "\n",
    "1. Lemmatizer taking longer time in comparision to stemming.  \n",
    "2. Lemmatization giving better accuracy in comparision to stemming.<br> \n",
    "For example -<br>\n",
    "In Stemming :<br>\n",
    "a. little is converted to littl<br> \n",
    "b. entries converted to entri<br>\n",
    "In lemmatization :<br>\n",
    "a. little is restored as little<br>\n",
    "b. entries is converted to entry<br>"
   ]
  },
  {
   "cell_type": "markdown",
   "id": "446c1023",
   "metadata": {},
   "source": [
    "##### Technique used and justification :\n",
    "\n",
    "Looking at the observations above, decided to use lemmatizer for better accuracy. \n",
    "Lemmatization does normalizations with the use of a vocabulary and morphological analysis of words and thereby gives better accuracy."
   ]
  },
  {
   "cell_type": "code",
   "execution_count": 27,
   "id": "ee0595a3",
   "metadata": {},
   "outputs": [],
   "source": [
    "# Applying lemmatization to review column of dataframe\n",
    "\n",
    "df_imdb['review']=df_imdb['review'].apply(wnet_lemmatization)\n"
   ]
  },
  {
   "cell_type": "code",
   "execution_count": 28,
   "id": "bbf4cfd7",
   "metadata": {},
   "outputs": [
    {
     "data": {
      "text/plain": [
       "0        One reviewer mentioned watching 1 Oz episode y...\n",
       "1        wonderful little production br br filming tech...\n",
       "2        thought wonderful way spend time hot summer we...\n",
       "3        Basically there family little boy Jake think t...\n",
       "4        Petter Matteis Love Time Money visually stunni...\n",
       "                               ...                        \n",
       "49995    thought movie right good job wasnt creative or...\n",
       "49996    Bad plot bad dialogue bad acting idiotic direc...\n",
       "49997    Catholic taught parochial elementary school nu...\n",
       "49998    Im going disagree previous comment side Maltin...\n",
       "49999    one expects Star Trek movie high art fan expec...\n",
       "Name: review, Length: 50000, dtype: object"
      ]
     },
     "execution_count": 28,
     "metadata": {},
     "output_type": "execute_result"
    }
   ],
   "source": [
    "# Displaying review column from dataframe - after applying lemmatization\n",
    "\n",
    "df_imdb['review']\n"
   ]
  },
  {
   "cell_type": "markdown",
   "id": "6c91457f",
   "metadata": {},
   "source": [
    "### 4. Create two objects X and y. X will be the ' Review' column of  the above dataframe and y will be the 'class' colum. Create a CountVectorizer object and split the data into training and testing sets. Train a MultinomialNB model for classifying the reviews and Display the confusion Matrix (3 Marks)"
   ]
  },
  {
   "cell_type": "code",
   "execution_count": 29,
   "id": "d87f3033",
   "metadata": {},
   "outputs": [],
   "source": [
    "# Two objects X and y created. X is the ' Review' column of the dataframe and y is the 'class' colum\n",
    "\n",
    "X = df_imdb['review']\n",
    "\n",
    "y = df_imdb['class']\n"
   ]
  },
  {
   "cell_type": "markdown",
   "id": "e3d33150",
   "metadata": {},
   "source": [
    "Splitting the data for training and testing to check the model performance. Also randomizing the data in case the data includes all positive first and then all negative or some other kind of bias.\n",
    "\n",
    "Using scikit_learn's train_test_split() for splitting."
   ]
  },
  {
   "cell_type": "code",
   "execution_count": 30,
   "id": "9118e198",
   "metadata": {},
   "outputs": [],
   "source": [
    "# Splitting the data into training and testing sets\n",
    "\n",
    "xtrain, xtest, ytrain, ytest = train_test_split(X, y, stratify=y, test_size=0.20, random_state=42, shuffle=True)\n"
   ]
  },
  {
   "cell_type": "markdown",
   "id": "6e476f22",
   "metadata": {},
   "source": [
    "##### Count Vectorization : \n",
    "This is a simpler vectorization technique which relies on frequency of occurence of a particular term in a document or corpus."
   ]
  },
  {
   "cell_type": "markdown",
   "id": "9c8cf88c",
   "metadata": {},
   "source": [
    "##### Count Vectorization parameters :\n",
    "\n",
    "Below are the few parameters used -\n",
    "\n",
    "<b>1. analyzer :</b> The analyzer parameter in CountVectorizer controls how the text is tokenized, or split into individual words. The word analyzer simply splits the text on whitespace, ignoring any punctuation. This is the default behavior for CountVectorizer.\n",
    "\n",
    "<b>2. token_pattern :</b> The token_pattern parameter in CountVectorizer controls how the text is tokenized, or split into individual words. The default value for token_pattern is r'\\w{1,}', which means that any sequence of one or more alphanumeric characters will be considered a token. We set the parameter token_pattern = r'\\w+'. The \\w+ regular expression matches any sequence of one or more alphanumeric characters, so this will exclude all punctuation from the vocabulary.\n",
    "\n",
    "<b>3. ngram_range :</b> An n-gram is just a string of n words in a row. E.g. the sentence ‘I am Human’ contains the 2-grams ‘I am’ and ‘am Human’. The sentence is itself a 3-gram. Set the parameter ngram_range = (a,b) where a is the minimum and b is the maximum size of ngrams we want to include in our features. The default ngram_range is (1,1). We set the parameter ngram_range = (1, 3).\n",
    "\n",
    "<b>4. stop_words :</b> Since CountVectorizer just counts the occurrences of each word in its vocabulary, extremely common words like ‘the’, ‘and’, etc. will become very important features while they add little meaning to the text. Model can often be improved if these words are not taken into account. Stop words are just a list of words we don’t want to use as features. We set the parameter stop_words = 'english' here to use a built-in list. This parameter defaults to None.\n"
   ]
  },
  {
   "cell_type": "code",
   "execution_count": 31,
   "id": "b3c1a3f3",
   "metadata": {},
   "outputs": [],
   "source": [
    "# Defining the CountVectorizer\n",
    "\n",
    "def count_vect(xtrain, xtest):\n",
    "    ctv = CountVectorizer(analyzer='word',token_pattern=r'\\w+',\n",
    "                ngram_range=(1, 3), stop_words = 'english')\n",
    "\n",
    "    # Fitting Count Vectorizer to both training and test sets (semi-supervised learning)\n",
    "    ctv.fit(list(xtrain) + list(xtest))\n",
    "    xtrain_ctv =  ctv.transform(xtrain) \n",
    "    xtest_ctv = ctv.transform(xtest)\n",
    "    return xtrain_ctv, xtest_ctv\n"
   ]
  },
  {
   "cell_type": "code",
   "execution_count": 32,
   "id": "2e050c4b",
   "metadata": {},
   "outputs": [],
   "source": [
    "# Calling CountVectorizer module\n",
    "\n",
    "xtrain_ctv, xtest_ctv = count_vect(xtrain, xtest)\n"
   ]
  },
  {
   "cell_type": "code",
   "execution_count": 33,
   "id": "62bc9760",
   "metadata": {},
   "outputs": [],
   "source": [
    "# Defining Multinomial Navies Bayes model\n",
    "\n",
    "def multi_nb(xtrain_ctv, xtest_ctv, ytrain, ytest):\n",
    "    mnb = MultinomialNB()\n",
    "    mnb.fit(xtrain_ctv,ytrain)\n",
    "    \n",
    "    pred_mnb=mnb.predict(xtest_ctv)\n",
    "    score_mnb=accuracy_score(ytest,pred_mnb)\n",
    "    \n",
    "    print(\"Multinomial Naive Bayes Classifier Accuracy :\", \"{:.2f}%\".format(100 * score_mnb))\n",
    "    \n",
    "    print(\"Classification Report:\\n\")\n",
    "    print(classification_report(pred_mnb,ytest))\n",
    "    \n",
    "    plot_confusion_matrix(mnb, xtest_ctv, ytest,cmap = 'Blues')\n",
    "    print(\"Confusion Matrix:\\n\")\n",
    "    plt.grid(False)\n",
    "    \n",
    "    return mnb\n"
   ]
  },
  {
   "cell_type": "code",
   "execution_count": 34,
   "id": "3beb9c21",
   "metadata": {},
   "outputs": [
    {
     "name": "stdout",
     "output_type": "stream",
     "text": [
      "Multinomial Naive Bayes Classifier Accuracy : 88.28%\n",
      "Classification Report:\n",
      "\n",
      "              precision    recall  f1-score   support\n",
      "\n",
      "           0       0.90      0.87      0.88      5176\n",
      "           1       0.87      0.90      0.88      4824\n",
      "\n",
      "    accuracy                           0.88     10000\n",
      "   macro avg       0.88      0.88      0.88     10000\n",
      "weighted avg       0.88      0.88      0.88     10000\n",
      "\n",
      "Confusion Matrix:\n",
      "\n"
     ]
    },
    {
     "data": {
      "image/png": "[encoded data removed]",
      "text/plain": [
       "<Figure size 640x480 with 2 Axes>"
      ]
     },
     "metadata": {},
     "output_type": "display_data"
    }
   ],
   "source": [
    "# Calling Multinomial Navies Bayes module\n",
    "\n",
    "mnb = multi_nb(xtrain_ctv, xtest_ctv, ytrain, ytest)\n"
   ]
  },
  {
   "cell_type": "markdown",
   "id": "d353869b",
   "metadata": {},
   "source": [
    "##### Model result :\n",
    "\n",
    "#### Accuracy score : \n",
    "\n",
    "Accuracy score is 88.28 % for the MultinomialNB model. For each of 100 total number of prediction, in average, our model can predict 88 cases correctly.\n",
    "\n",
    "#### The Confusion matrix :\n",
    "\n",
    "<b>True Positive :</b> The actual value was 4502 negative reviews and the model predicted 4502 negative reviews.<br>\n",
    "<b>True Negative :</b> The actual value was 4326 positive reviews and the model predict 4326 negative reviews.<br>\n",
    "<b>False Positive :</b> The actual values was 498 postive reviews and the model predicted 498 negative reviews.<br>\n",
    "<b>False Negative :</b> The actual values was 674 negative reviews and the model preditced 674 positive reviews.<br>\n",
    "\n",
    "#### Classification report :\n",
    "\n",
    "<b>Precision :</b>\n",
    "\n",
    "<b>Negative review :</b> The ratio correctly predicted negative review observations to the total predicted negative review observations is 0.90<br>\n",
    "<b>Positive review :</b> The ratio correctly predicted positive review observations to the total predicted positive review observations is 0.87<br>\n",
    "\n",
    "#### Recall :\n",
    "\n",
    "<b>Negative review :</b> The ratio of correctly predicted negative review observations to the all observations in actual class is 0.87<br>\n",
    "<b>Positive review :</b> The ratio of correctly predicted positive review observations to the all observations in actual class is 0.90<br>\n",
    "\n",
    "#### F1 score :\n",
    "\n",
    "F1 score is the weighted average of Precision and Recall. In both case positive and negative review, F1 scores are equal 0.88\n"
   ]
  },
  {
   "cell_type": "markdown",
   "id": "f9800818",
   "metadata": {},
   "source": [
    "##### ROC AUC\n",
    "\n",
    "ROC AUC stands for Receiver Operating Characteristic - Area Under Curve. It is a technique to compare classifier performance. In this technique, we measure the area under the curve (AUC). A perfect classifier will have a ROC AUC equal to 1, whereas a purely random classifier will have a ROC AUC equal to 0.5.\n",
    "\n",
    "So, ROC AUC is the percentage of the ROC plot that is underneath the curve.\n"
   ]
  },
  {
   "cell_type": "code",
   "execution_count": 35,
   "id": "17859dd3",
   "metadata": {},
   "outputs": [],
   "source": [
    "# Defining a module for plotting ROC curve\n",
    "\n",
    "def mnb_roc_curve(mnb, xtest_ctv, ytest):\n",
    "\n",
    "    # Predicting probabilities for MNB model: \n",
    "    MNB_prob = mnb.predict_proba(xtest_ctv)\n",
    "\n",
    "    # ROC curve for model\n",
    "    fpr2, tpr2, thresh2 = roc_curve(ytest, MNB_prob[:,1], pos_label=1)\n",
    "\n",
    "    # ROC curve for tpr = fpr \n",
    "    random_probs = [0 for i in range(len(ytest))]\n",
    "    p_fpr, p_tpr, _ = roc_curve(ytest, random_probs, pos_label=1)\n",
    "\n",
    "    # AUC scores\n",
    "    auc_MNB = roc_auc_score(ytest, MNB_prob[:,1])\n",
    "    print(\"AUC Score: \", auc_MNB)\n",
    "\n",
    "    # Plotting ROC curves\n",
    "    plt.plot(fpr2, tpr2, linestyle='--', color='green', label='MNB Model')\n",
    "    plt.plot(p_fpr, p_tpr, linestyle='--', color='pink')\n",
    "\n",
    "    # Assigning title\n",
    "    plt.title('ROC curve')\n",
    "    \n",
    "    # Assigning x label\n",
    "    plt.xlabel('False Positive Rate')\n",
    "    \n",
    "    # Assigning y label\n",
    "    plt.ylabel('True Positive rate')\n",
    "\n",
    "    plt.legend(loc='best')\n",
    "    plt.savefig('ROC',dpi=300)\n",
    "    plt.show();\n"
   ]
  },
  {
   "cell_type": "code",
   "execution_count": 36,
   "id": "b2dbd383",
   "metadata": {},
   "outputs": [
    {
     "name": "stdout",
     "output_type": "stream",
     "text": [
      "AUC Score:  0.9438462799999998\n"
     ]
    },
    {
     "data": {
      "image/png": "[encoded data removed]",
      "text/plain": [
       "<Figure size 640x480 with 1 Axes>"
      ]
     },
     "metadata": {},
     "output_type": "display_data"
    }
   ],
   "source": [
    "# Calling module for plotting ROC curve\n",
    "\n",
    "mnb_roc_curve(mnb, xtest_ctv, ytest)\n"
   ]
  },
  {
   "cell_type": "markdown",
   "id": "c92c2008",
   "metadata": {},
   "source": [
    "##### Inferences :\n",
    "\n",
    "The following can be inferred from the ROC AUC -\n",
    "1. ROC AUC is a single number summary of classifier performance. The higher the value, the better the classifier.\n",
    "2. ROC AUC of our model approaches towards 1. So, we can conclude that our classifier does a good job."
   ]
  },
  {
   "cell_type": "markdown",
   "id": "a2397245",
   "metadata": {},
   "source": [
    "### 5. Display the HMM POS tagging on the first 4 rows of ‘post’ (2 Marks)"
   ]
  },
  {
   "cell_type": "code",
   "execution_count": 37,
   "id": "29195608",
   "metadata": {},
   "outputs": [
    {
     "data": {
      "text/plain": [
       "'\\nCC     coordinating conjunction\\nCD     cardinal digit\\nDT     determiner\\nEX     existential there (like: \"there is\" ... think of it like \"there exists\")\\nFW     foreign word\\nIN     preposition/subordinating conjunction\\nJJ     adjective \\'big\\'\\nJJR    adjective, comparative \\'bigger\\'\\nJJS    adjective, superlative \\'biggest\\'\\nLS     list marker 1)\\nMD     modal could, will\\nNN     noun, singular \\'desk\\'\\nNNS    noun plural \\'desks\\'\\nNNP    proper noun, singular \\'Harrison\\'\\nNNPS   proper noun, plural \\'Americans\\'\\nPDT    predeterminer \\'all the kids\\'\\nPOS    possessive ending parent\\'s\\nPRP    personal pronoun I, he, she\\nPRP$   possessive pronoun my, his, hers\\nRB     adverb very, silently,\\nRBR    adverb, comparative better\\nRBS    adverb, superlative best\\nRP     particle give up\\nTO     to go \\'to\\' the store.\\nUH     interjection errrrrrrrm\\nVB     verb, base form take\\nVBD    verb, past tense took\\nVBG    verb, gerund/present participle taking\\nVBN    verb, past participle taken\\nVBP    verb, sing. present, non-3d take\\nVBZ    verb, 3rd person sing. present takes\\nWDT    wh-determiner which\\nWP     wh-pronoun who, what\\nWP$    possessive wh-pronoun whose\\nWRB    wh-abverb where, when\\n'"
      ]
     },
     "execution_count": 37,
     "metadata": {},
     "output_type": "execute_result"
    }
   ],
   "source": [
    "\"\"\"\n",
    "CC     coordinating conjunction\n",
    "CD     cardinal digit\n",
    "DT     determiner\n",
    "EX     existential there (like: \"there is\" ... think of it like \"there exists\")\n",
    "FW     foreign word\n",
    "IN     preposition/subordinating conjunction\n",
    "JJ     adjective 'big'\n",
    "JJR    adjective, comparative 'bigger'\n",
    "JJS    adjective, superlative 'biggest'\n",
    "LS     list marker 1)\n",
    "MD     modal could, will\n",
    "NN     noun, singular 'desk'\n",
    "NNS    noun plural 'desks'\n",
    "NNP    proper noun, singular 'Harrison'\n",
    "NNPS   proper noun, plural 'Americans'\n",
    "PDT    predeterminer 'all the kids'\n",
    "POS    possessive ending parent's\n",
    "PRP    personal pronoun I, he, she\n",
    "PRP$   possessive pronoun my, his, hers\n",
    "RB     adverb very, silently,\n",
    "RBR    adverb, comparative better\n",
    "RBS    adverb, superlative best\n",
    "RP     particle give up\n",
    "TO     to go 'to' the store.\n",
    "UH     interjection errrrrrrrm\n",
    "VB     verb, base form take\n",
    "VBD    verb, past tense took\n",
    "VBG    verb, gerund/present participle taking\n",
    "VBN    verb, past participle taken\n",
    "VBP    verb, sing. present, non-3d take\n",
    "VBZ    verb, 3rd person sing. present takes\n",
    "WDT    wh-determiner which\n",
    "WP     wh-pronoun who, what\n",
    "WP$    possessive wh-pronoun whose\n",
    "WRB    wh-abverb where, when\n",
    "\"\"\""
   ]
  },
  {
   "cell_type": "markdown",
   "id": "229bc426",
   "metadata": {},
   "source": [
    "##### POS tagging"
   ]
  },
  {
   "cell_type": "code",
   "execution_count": 38,
   "id": "353c6691",
   "metadata": {},
   "outputs": [
    {
     "name": "stdout",
     "output_type": "stream",
     "text": [
      "[[('One', 'CD'), ('reviewer', 'NN'), ('mentioned', 'VBD'), ('watching', 'VBG'), ('1', 'CD'), ('Oz', 'NNP'), ('episode', 'NN'), ('youll', 'NN'), ('hooked', 'VBD'), ('right', 'RB'), ('exactly', 'RB'), ('happened', 'VBN'), ('mebr', 'NN'), ('br', 'NN'), ('first', 'JJ'), ('thing', 'NN'), ('struck', 'VBD'), ('Oz', 'NNP'), ('brutality', 'NN'), ('unflinching', 'VBG')], [('wonderful', 'JJ'), ('little', 'JJ'), ('production', 'NN'), ('br', 'NN'), ('br', 'IN'), ('filming', 'VBG'), ('technique', 'NN'), ('unassuming', 'JJ'), ('oldtimeBBC', 'JJ'), ('fashion', 'NN'), ('give', 'VB'), ('comforting', 'NN'), ('sometimes', 'RB'), ('discomforting', 'VBG'), ('sense', 'NN'), ('realism', 'NN'), ('entire', 'JJ'), ('piece', 'NN'), ('br', 'NN'), ('br', 'NN')], [('thought', 'VBN'), ('wonderful', 'JJ'), ('way', 'NN'), ('spend', 'JJ'), ('time', 'NN'), ('hot', 'JJ'), ('summer', 'NN'), ('weekend', 'NN'), ('sitting', 'VBG'), ('air', 'NN'), ('conditioned', 'VBN'), ('theater', 'NN'), ('watching', 'VBG'), ('lighthearted', 'JJ'), ('comedy', 'NN'), ('plot', 'NN'), ('simplistic', 'JJ'), ('dialogue', 'NN'), ('witty', 'JJ'), ('character', 'NN')], [('Basically', 'RB'), ('there', 'EX'), ('family', 'NN'), ('little', 'JJ'), ('boy', 'JJ'), ('Jake', 'NNP'), ('think', 'NN'), ('there', 'RB'), ('zombie', 'VBZ'), ('closet', 'NN'), ('parent', 'NN'), ('fighting', 'VBG'), ('timebr', 'JJ'), ('br', 'JJ'), ('movie', 'NN'), ('slower', 'JJR'), ('soap', 'NN'), ('opera', 'NN'), ('suddenly', 'RB'), ('Jake', 'NNP')]]\n"
     ]
    }
   ],
   "source": [
    "# Tokenizing the first 4 rows of the dataset\n",
    "\n",
    "tokenized_sentences = [nltk.word_tokenize(text) for text in df_imdb['review'][:4]]\n",
    "\n",
    "# Performing POS tagging\n",
    "\n",
    "tagged_data = [nltk.pos_tag(tokens)[:20] for tokens in tokenized_sentences]\n",
    "\n",
    "print(tagged_data)\n"
   ]
  },
  {
   "cell_type": "code",
   "execution_count": 39,
   "id": "5d5e2836",
   "metadata": {},
   "outputs": [],
   "source": [
    "# Defining a module for plotting POS tagging\n",
    "\n",
    "def plot_pos_tag(tagged_data):\n",
    "\n",
    "    # Extracting tags and words from the tagged data\n",
    "\n",
    "    tags = []\n",
    "    words = []\n",
    "\n",
    "    for tagged_sentence in tagged_data:\n",
    "        for word, tag in tagged_sentence:\n",
    "            tags.append(tag)\n",
    "            words.append(word)\n",
    "\n",
    "    # Plotting the POS tagging\n",
    "\n",
    "    plt.figure(figsize=(10, 16))  # Increase figure size\n",
    "    plt.scatter(range(len(words)), tags, marker='o')\n",
    "\n",
    "    # Adding labels to the points\n",
    "\n",
    "    for i, word in enumerate(words):\n",
    "        plt.annotate(word, (i, tags[i]), textcoords=\"offset points\", xytext=(0, 10), ha='center', rotation='vertical', fontsize=10)  # Make text vertical\n",
    "\n",
    "    # Setting plot properties\n",
    "\n",
    "    plt.xlabel('Word Index', fontsize=12)  \n",
    "    plt.ylabel('POS Tag', fontsize=12) \n",
    "    plt.title('HMM POS Tagging', fontsize=14) \n",
    "\n",
    "    # Adjusting spacing between plot elements\n",
    "    plt.tight_layout()  \n",
    "\n",
    "    plt.show()"
   ]
  },
  {
   "cell_type": "code",
   "execution_count": 40,
   "id": "bc2b9ed6",
   "metadata": {},
   "outputs": [
    {
     "data": {
      "image/png": "[encoded data removed]",
      "text/plain": [
       "<Figure size 1000x1600 with 1 Axes>"
      ]
     },
     "metadata": {},
     "output_type": "display_data"
    }
   ],
   "source": [
    "# Calling module for plotting Transition Probability\n",
    "\n",
    "plot_pos_tag(tagged_data)\n"
   ]
  },
  {
   "cell_type": "code",
   "execution_count": 41,
   "id": "2f069a06",
   "metadata": {},
   "outputs": [],
   "source": [
    "# Creating list of tagged words\n",
    "\n",
    "tagged_words = [ tup for sent in tagged_data for tup in sent ]\n"
   ]
  },
  {
   "cell_type": "code",
   "execution_count": 42,
   "id": "bcb47f23",
   "metadata": {},
   "outputs": [
    {
     "name": "stdout",
     "output_type": "stream",
     "text": [
      "13\n",
      "{'EX', 'NNP', 'VBN', 'VBD', 'VBZ', 'RB', 'IN', 'JJR', 'VB', 'CD', 'NN', 'JJ', 'VBG'}\n",
      "{'technique', 'struck', 'thing', 'reviewer', 'opera', 'way', 'episode', 'unflinching', 'piece', 'hooked', 'discomforting', 'comforting', 'thought', 'Basically', 'parent', 'suddenly', 'exactly', 'sense', 'boy', 'summer', 'dialogue', 'hot', 'weekend', 'there', 'fashion', 'timebr', 'filming', 'closet', 'Oz', 'production', 'unassuming', 'comedy', 'soap', 'One', 'sometimes', 'time', 'br', 'family', 'witty', 'wonderful', 'air', 'zombie', '1', 'brutality', 'spend', 'little', 'give', 'Jake', 'fighting', 'entire', 'movie', 'youll', 'mentioned', 'slower', 'character', 'first', 'happened', 'conditioned', 'lighthearted', 'theater', 'watching', 'plot', 'right', 'sitting', 'simplistic', 'mebr', 'oldtimeBBC', 'realism', 'think'}\n"
     ]
    }
   ],
   "source": [
    "# Using set datatype to check how many unique tags are present in training data\n",
    "\n",
    "tags = {tag for word,tag in tagged_words}\n",
    "print(len(tags))\n",
    "print(tags)\n",
    " \n",
    "# Checking total words in vocabulary\n",
    "\n",
    "vocab = {word for word,tag in tagged_words}\n",
    "print(vocab)\n"
   ]
  },
  {
   "cell_type": "markdown",
   "id": "13c6488d",
   "metadata": {},
   "source": [
    "##### Emission probability"
   ]
  },
  {
   "cell_type": "code",
   "execution_count": 43,
   "id": "abe2c9d6",
   "metadata": {},
   "outputs": [],
   "source": [
    "# Computing Emission probability\n",
    "\n",
    "def emi_prob(tagged_data):\n",
    "\n",
    "    # Create a dictionary to store emission counts\n",
    "    emission_counts = {}\n",
    "\n",
    "    # Count the occurrences of each (word, tag) pair\n",
    "    for tagged_sentence in tagged_data:\n",
    "        for word, tag in tagged_sentence:\n",
    "            if tag not in emission_counts:\n",
    "                emission_counts[tag] = {}\n",
    "            if word not in emission_counts[tag]:\n",
    "                emission_counts[tag][word] = 0\n",
    "            emission_counts[tag][word] += 1\n",
    "\n",
    "    # Compute emission probabilities\n",
    "    emission_probabilities = {}\n",
    "    for tag, word_counts in emission_counts.items():\n",
    "        total_count = sum(word_counts.values())\n",
    "        emission_probabilities[tag] = {word: count / total_count for word, count in word_counts.items()}\n",
    "        \n",
    "    return emission_probabilities"
   ]
  },
  {
   "cell_type": "code",
   "execution_count": 44,
   "id": "dc00562e",
   "metadata": {},
   "outputs": [],
   "source": [
    "# Calling module for computing Emission probability\n",
    "\n",
    "emission_probabilities = emi_prob(tagged_data)\n"
   ]
  },
  {
   "cell_type": "code",
   "execution_count": 45,
   "id": "13709a03",
   "metadata": {},
   "outputs": [],
   "source": [
    "# Defining a module to create emission matrix of tags, words\n",
    "\n",
    "def emi_matx(emission_probabilities):\n",
    "    tags = list(emission_probabilities.keys())\n",
    "    words = list(set().union(*[list(probabilities.keys()) for probabilities in emission_probabilities.values()]))\n",
    "    emi_matrix = np.zeros((len(tags), len(words)))\n",
    "\n",
    "    for i, tag in enumerate(tags):\n",
    "        for j, word in enumerate(words):\n",
    "            if word in emission_probabilities[tag]:\n",
    "                emi_matrix[i, j] = emission_probabilities[tag][word]\n",
    "                \n",
    "    return tags, words, emi_matrix \n"
   ]
  },
  {
   "cell_type": "code",
   "execution_count": 46,
   "id": "b811132d",
   "metadata": {},
   "outputs": [],
   "source": [
    "# Calling module tocreate emission matrix of tags, words\n",
    "\n",
    "tags, words, emi_matrix = emi_matx(emission_probabilities)\n"
   ]
  },
  {
   "cell_type": "code",
   "execution_count": 47,
   "id": "442618fe",
   "metadata": {},
   "outputs": [],
   "source": [
    "# Defining a module for plotting emission probability\n",
    "\n",
    "def plot_emi_matx(tags, words, emi_matrix):\n",
    "    plt.figure(figsize=(10, 6))\n",
    "    plt.imshow(emi_matrix, cmap='Spectral', interpolation='nearest', aspect='auto')\n",
    "\n",
    "    plt.xticks(np.arange(len(words)), words, rotation=90)\n",
    "    plt.yticks(np.arange(len(tags)), tags)\n",
    "\n",
    "    cbar = plt.colorbar()\n",
    "    cbar.set_label('Emission Probability')\n",
    "\n",
    "    plt.title('HMM Emission Probabilities')\n",
    "    plt.tight_layout()\n",
    "    plt.show()\n"
   ]
  },
  {
   "cell_type": "code",
   "execution_count": 48,
   "id": "718036eb",
   "metadata": {},
   "outputs": [
    {
     "data": {
      "image/png": "[encoded data removed]",
      "text/plain": [
       "<Figure size 1000x600 with 2 Axes>"
      ]
     },
     "metadata": {},
     "output_type": "display_data"
    }
   ],
   "source": [
    "# Calling module for plotting emission probability\n",
    "\n",
    "plot_emi_matx(tags, words, emi_matrix)\n"
   ]
  },
  {
   "cell_type": "code",
   "execution_count": 49,
   "id": "0e10a4bf",
   "metadata": {},
   "outputs": [
    {
     "data": {
      "text/html": [
       "<div>\n",
       "<style scoped>\n",
       "    .dataframe tbody tr th:only-of-type {\n",
       "        vertical-align: middle;\n",
       "    }\n",
       "\n",
       "    .dataframe tbody tr th {\n",
       "        vertical-align: top;\n",
       "    }\n",
       "\n",
       "    .dataframe thead th {\n",
       "        text-align: right;\n",
       "    }\n",
       "</style>\n",
       "<table border=\"1\" class=\"dataframe\">\n",
       "  <thead>\n",
       "    <tr style=\"text-align: right;\">\n",
       "      <th></th>\n",
       "      <th>technique</th>\n",
       "      <th>struck</th>\n",
       "      <th>thing</th>\n",
       "      <th>reviewer</th>\n",
       "      <th>opera</th>\n",
       "      <th>way</th>\n",
       "      <th>piece</th>\n",
       "      <th>episode</th>\n",
       "      <th>unflinching</th>\n",
       "      <th>hooked</th>\n",
       "      <th>...</th>\n",
       "      <th>theater</th>\n",
       "      <th>watching</th>\n",
       "      <th>plot</th>\n",
       "      <th>sitting</th>\n",
       "      <th>right</th>\n",
       "      <th>simplistic</th>\n",
       "      <th>time</th>\n",
       "      <th>oldtimeBBC</th>\n",
       "      <th>realism</th>\n",
       "      <th>think</th>\n",
       "    </tr>\n",
       "  </thead>\n",
       "  <tbody>\n",
       "    <tr>\n",
       "      <th>CD</th>\n",
       "      <td>0.000000</td>\n",
       "      <td>0.000000</td>\n",
       "      <td>0.000000</td>\n",
       "      <td>0.000000</td>\n",
       "      <td>0.000000</td>\n",
       "      <td>0.000000</td>\n",
       "      <td>0.000000</td>\n",
       "      <td>0.000000</td>\n",
       "      <td>0.000000</td>\n",
       "      <td>0.000000</td>\n",
       "      <td>...</td>\n",
       "      <td>0.000000</td>\n",
       "      <td>0.000000</td>\n",
       "      <td>0.000000</td>\n",
       "      <td>0.000000</td>\n",
       "      <td>0.000000</td>\n",
       "      <td>0.0000</td>\n",
       "      <td>0.000000</td>\n",
       "      <td>0.0000</td>\n",
       "      <td>0.000000</td>\n",
       "      <td>0.000000</td>\n",
       "    </tr>\n",
       "    <tr>\n",
       "      <th>NN</th>\n",
       "      <td>0.029412</td>\n",
       "      <td>0.000000</td>\n",
       "      <td>0.029412</td>\n",
       "      <td>0.029412</td>\n",
       "      <td>0.029412</td>\n",
       "      <td>0.029412</td>\n",
       "      <td>0.029412</td>\n",
       "      <td>0.029412</td>\n",
       "      <td>0.000000</td>\n",
       "      <td>0.000000</td>\n",
       "      <td>...</td>\n",
       "      <td>0.029412</td>\n",
       "      <td>0.000000</td>\n",
       "      <td>0.029412</td>\n",
       "      <td>0.000000</td>\n",
       "      <td>0.000000</td>\n",
       "      <td>0.0000</td>\n",
       "      <td>0.029412</td>\n",
       "      <td>0.0000</td>\n",
       "      <td>0.029412</td>\n",
       "      <td>0.029412</td>\n",
       "    </tr>\n",
       "    <tr>\n",
       "      <th>VBD</th>\n",
       "      <td>0.000000</td>\n",
       "      <td>0.333333</td>\n",
       "      <td>0.000000</td>\n",
       "      <td>0.000000</td>\n",
       "      <td>0.000000</td>\n",
       "      <td>0.000000</td>\n",
       "      <td>0.000000</td>\n",
       "      <td>0.000000</td>\n",
       "      <td>0.000000</td>\n",
       "      <td>0.333333</td>\n",
       "      <td>...</td>\n",
       "      <td>0.000000</td>\n",
       "      <td>0.000000</td>\n",
       "      <td>0.000000</td>\n",
       "      <td>0.000000</td>\n",
       "      <td>0.000000</td>\n",
       "      <td>0.0000</td>\n",
       "      <td>0.000000</td>\n",
       "      <td>0.0000</td>\n",
       "      <td>0.000000</td>\n",
       "      <td>0.000000</td>\n",
       "    </tr>\n",
       "    <tr>\n",
       "      <th>VBG</th>\n",
       "      <td>0.000000</td>\n",
       "      <td>0.000000</td>\n",
       "      <td>0.000000</td>\n",
       "      <td>0.000000</td>\n",
       "      <td>0.000000</td>\n",
       "      <td>0.000000</td>\n",
       "      <td>0.000000</td>\n",
       "      <td>0.000000</td>\n",
       "      <td>0.142857</td>\n",
       "      <td>0.000000</td>\n",
       "      <td>...</td>\n",
       "      <td>0.000000</td>\n",
       "      <td>0.285714</td>\n",
       "      <td>0.000000</td>\n",
       "      <td>0.142857</td>\n",
       "      <td>0.000000</td>\n",
       "      <td>0.0000</td>\n",
       "      <td>0.000000</td>\n",
       "      <td>0.0000</td>\n",
       "      <td>0.000000</td>\n",
       "      <td>0.000000</td>\n",
       "    </tr>\n",
       "    <tr>\n",
       "      <th>NNP</th>\n",
       "      <td>0.000000</td>\n",
       "      <td>0.000000</td>\n",
       "      <td>0.000000</td>\n",
       "      <td>0.000000</td>\n",
       "      <td>0.000000</td>\n",
       "      <td>0.000000</td>\n",
       "      <td>0.000000</td>\n",
       "      <td>0.000000</td>\n",
       "      <td>0.000000</td>\n",
       "      <td>0.000000</td>\n",
       "      <td>...</td>\n",
       "      <td>0.000000</td>\n",
       "      <td>0.000000</td>\n",
       "      <td>0.000000</td>\n",
       "      <td>0.000000</td>\n",
       "      <td>0.000000</td>\n",
       "      <td>0.0000</td>\n",
       "      <td>0.000000</td>\n",
       "      <td>0.0000</td>\n",
       "      <td>0.000000</td>\n",
       "      <td>0.000000</td>\n",
       "    </tr>\n",
       "    <tr>\n",
       "      <th>RB</th>\n",
       "      <td>0.000000</td>\n",
       "      <td>0.000000</td>\n",
       "      <td>0.000000</td>\n",
       "      <td>0.000000</td>\n",
       "      <td>0.000000</td>\n",
       "      <td>0.000000</td>\n",
       "      <td>0.000000</td>\n",
       "      <td>0.000000</td>\n",
       "      <td>0.000000</td>\n",
       "      <td>0.000000</td>\n",
       "      <td>...</td>\n",
       "      <td>0.000000</td>\n",
       "      <td>0.000000</td>\n",
       "      <td>0.000000</td>\n",
       "      <td>0.000000</td>\n",
       "      <td>0.166667</td>\n",
       "      <td>0.0000</td>\n",
       "      <td>0.000000</td>\n",
       "      <td>0.0000</td>\n",
       "      <td>0.000000</td>\n",
       "      <td>0.000000</td>\n",
       "    </tr>\n",
       "    <tr>\n",
       "      <th>VBN</th>\n",
       "      <td>0.000000</td>\n",
       "      <td>0.000000</td>\n",
       "      <td>0.000000</td>\n",
       "      <td>0.000000</td>\n",
       "      <td>0.000000</td>\n",
       "      <td>0.000000</td>\n",
       "      <td>0.000000</td>\n",
       "      <td>0.000000</td>\n",
       "      <td>0.000000</td>\n",
       "      <td>0.000000</td>\n",
       "      <td>...</td>\n",
       "      <td>0.000000</td>\n",
       "      <td>0.000000</td>\n",
       "      <td>0.000000</td>\n",
       "      <td>0.000000</td>\n",
       "      <td>0.000000</td>\n",
       "      <td>0.0000</td>\n",
       "      <td>0.000000</td>\n",
       "      <td>0.0000</td>\n",
       "      <td>0.000000</td>\n",
       "      <td>0.000000</td>\n",
       "    </tr>\n",
       "    <tr>\n",
       "      <th>JJ</th>\n",
       "      <td>0.000000</td>\n",
       "      <td>0.000000</td>\n",
       "      <td>0.000000</td>\n",
       "      <td>0.000000</td>\n",
       "      <td>0.000000</td>\n",
       "      <td>0.000000</td>\n",
       "      <td>0.000000</td>\n",
       "      <td>0.000000</td>\n",
       "      <td>0.000000</td>\n",
       "      <td>0.000000</td>\n",
       "      <td>...</td>\n",
       "      <td>0.000000</td>\n",
       "      <td>0.000000</td>\n",
       "      <td>0.000000</td>\n",
       "      <td>0.000000</td>\n",
       "      <td>0.000000</td>\n",
       "      <td>0.0625</td>\n",
       "      <td>0.000000</td>\n",
       "      <td>0.0625</td>\n",
       "      <td>0.000000</td>\n",
       "      <td>0.000000</td>\n",
       "    </tr>\n",
       "    <tr>\n",
       "      <th>IN</th>\n",
       "      <td>0.000000</td>\n",
       "      <td>0.000000</td>\n",
       "      <td>0.000000</td>\n",
       "      <td>0.000000</td>\n",
       "      <td>0.000000</td>\n",
       "      <td>0.000000</td>\n",
       "      <td>0.000000</td>\n",
       "      <td>0.000000</td>\n",
       "      <td>0.000000</td>\n",
       "      <td>0.000000</td>\n",
       "      <td>...</td>\n",
       "      <td>0.000000</td>\n",
       "      <td>0.000000</td>\n",
       "      <td>0.000000</td>\n",
       "      <td>0.000000</td>\n",
       "      <td>0.000000</td>\n",
       "      <td>0.0000</td>\n",
       "      <td>0.000000</td>\n",
       "      <td>0.0000</td>\n",
       "      <td>0.000000</td>\n",
       "      <td>0.000000</td>\n",
       "    </tr>\n",
       "    <tr>\n",
       "      <th>VB</th>\n",
       "      <td>0.000000</td>\n",
       "      <td>0.000000</td>\n",
       "      <td>0.000000</td>\n",
       "      <td>0.000000</td>\n",
       "      <td>0.000000</td>\n",
       "      <td>0.000000</td>\n",
       "      <td>0.000000</td>\n",
       "      <td>0.000000</td>\n",
       "      <td>0.000000</td>\n",
       "      <td>0.000000</td>\n",
       "      <td>...</td>\n",
       "      <td>0.000000</td>\n",
       "      <td>0.000000</td>\n",
       "      <td>0.000000</td>\n",
       "      <td>0.000000</td>\n",
       "      <td>0.000000</td>\n",
       "      <td>0.0000</td>\n",
       "      <td>0.000000</td>\n",
       "      <td>0.0000</td>\n",
       "      <td>0.000000</td>\n",
       "      <td>0.000000</td>\n",
       "    </tr>\n",
       "    <tr>\n",
       "      <th>EX</th>\n",
       "      <td>0.000000</td>\n",
       "      <td>0.000000</td>\n",
       "      <td>0.000000</td>\n",
       "      <td>0.000000</td>\n",
       "      <td>0.000000</td>\n",
       "      <td>0.000000</td>\n",
       "      <td>0.000000</td>\n",
       "      <td>0.000000</td>\n",
       "      <td>0.000000</td>\n",
       "      <td>0.000000</td>\n",
       "      <td>...</td>\n",
       "      <td>0.000000</td>\n",
       "      <td>0.000000</td>\n",
       "      <td>0.000000</td>\n",
       "      <td>0.000000</td>\n",
       "      <td>0.000000</td>\n",
       "      <td>0.0000</td>\n",
       "      <td>0.000000</td>\n",
       "      <td>0.0000</td>\n",
       "      <td>0.000000</td>\n",
       "      <td>0.000000</td>\n",
       "    </tr>\n",
       "    <tr>\n",
       "      <th>VBZ</th>\n",
       "      <td>0.000000</td>\n",
       "      <td>0.000000</td>\n",
       "      <td>0.000000</td>\n",
       "      <td>0.000000</td>\n",
       "      <td>0.000000</td>\n",
       "      <td>0.000000</td>\n",
       "      <td>0.000000</td>\n",
       "      <td>0.000000</td>\n",
       "      <td>0.000000</td>\n",
       "      <td>0.000000</td>\n",
       "      <td>...</td>\n",
       "      <td>0.000000</td>\n",
       "      <td>0.000000</td>\n",
       "      <td>0.000000</td>\n",
       "      <td>0.000000</td>\n",
       "      <td>0.000000</td>\n",
       "      <td>0.0000</td>\n",
       "      <td>0.000000</td>\n",
       "      <td>0.0000</td>\n",
       "      <td>0.000000</td>\n",
       "      <td>0.000000</td>\n",
       "    </tr>\n",
       "    <tr>\n",
       "      <th>JJR</th>\n",
       "      <td>0.000000</td>\n",
       "      <td>0.000000</td>\n",
       "      <td>0.000000</td>\n",
       "      <td>0.000000</td>\n",
       "      <td>0.000000</td>\n",
       "      <td>0.000000</td>\n",
       "      <td>0.000000</td>\n",
       "      <td>0.000000</td>\n",
       "      <td>0.000000</td>\n",
       "      <td>0.000000</td>\n",
       "      <td>...</td>\n",
       "      <td>0.000000</td>\n",
       "      <td>0.000000</td>\n",
       "      <td>0.000000</td>\n",
       "      <td>0.000000</td>\n",
       "      <td>0.000000</td>\n",
       "      <td>0.0000</td>\n",
       "      <td>0.000000</td>\n",
       "      <td>0.0000</td>\n",
       "      <td>0.000000</td>\n",
       "      <td>0.000000</td>\n",
       "    </tr>\n",
       "  </tbody>\n",
       "</table>\n",
       "<p>13 rows × 69 columns</p>\n",
       "</div>"
      ],
      "text/plain": [
       "     technique    struck     thing  reviewer     opera       way     piece  \\\n",
       "CD    0.000000  0.000000  0.000000  0.000000  0.000000  0.000000  0.000000   \n",
       "NN    0.029412  0.000000  0.029412  0.029412  0.029412  0.029412  0.029412   \n",
       "VBD   0.000000  0.333333  0.000000  0.000000  0.000000  0.000000  0.000000   \n",
       "VBG   0.000000  0.000000  0.000000  0.000000  0.000000  0.000000  0.000000   \n",
       "NNP   0.000000  0.000000  0.000000  0.000000  0.000000  0.000000  0.000000   \n",
       "RB    0.000000  0.000000  0.000000  0.000000  0.000000  0.000000  0.000000   \n",
       "VBN   0.000000  0.000000  0.000000  0.000000  0.000000  0.000000  0.000000   \n",
       "JJ    0.000000  0.000000  0.000000  0.000000  0.000000  0.000000  0.000000   \n",
       "IN    0.000000  0.000000  0.000000  0.000000  0.000000  0.000000  0.000000   \n",
       "VB    0.000000  0.000000  0.000000  0.000000  0.000000  0.000000  0.000000   \n",
       "EX    0.000000  0.000000  0.000000  0.000000  0.000000  0.000000  0.000000   \n",
       "VBZ   0.000000  0.000000  0.000000  0.000000  0.000000  0.000000  0.000000   \n",
       "JJR   0.000000  0.000000  0.000000  0.000000  0.000000  0.000000  0.000000   \n",
       "\n",
       "      episode  unflinching    hooked  ...   theater  watching      plot  \\\n",
       "CD   0.000000     0.000000  0.000000  ...  0.000000  0.000000  0.000000   \n",
       "NN   0.029412     0.000000  0.000000  ...  0.029412  0.000000  0.029412   \n",
       "VBD  0.000000     0.000000  0.333333  ...  0.000000  0.000000  0.000000   \n",
       "VBG  0.000000     0.142857  0.000000  ...  0.000000  0.285714  0.000000   \n",
       "NNP  0.000000     0.000000  0.000000  ...  0.000000  0.000000  0.000000   \n",
       "RB   0.000000     0.000000  0.000000  ...  0.000000  0.000000  0.000000   \n",
       "VBN  0.000000     0.000000  0.000000  ...  0.000000  0.000000  0.000000   \n",
       "JJ   0.000000     0.000000  0.000000  ...  0.000000  0.000000  0.000000   \n",
       "IN   0.000000     0.000000  0.000000  ...  0.000000  0.000000  0.000000   \n",
       "VB   0.000000     0.000000  0.000000  ...  0.000000  0.000000  0.000000   \n",
       "EX   0.000000     0.000000  0.000000  ...  0.000000  0.000000  0.000000   \n",
       "VBZ  0.000000     0.000000  0.000000  ...  0.000000  0.000000  0.000000   \n",
       "JJR  0.000000     0.000000  0.000000  ...  0.000000  0.000000  0.000000   \n",
       "\n",
       "      sitting     right  simplistic      time  oldtimeBBC   realism     think  \n",
       "CD   0.000000  0.000000      0.0000  0.000000      0.0000  0.000000  0.000000  \n",
       "NN   0.000000  0.000000      0.0000  0.029412      0.0000  0.029412  0.029412  \n",
       "VBD  0.000000  0.000000      0.0000  0.000000      0.0000  0.000000  0.000000  \n",
       "VBG  0.142857  0.000000      0.0000  0.000000      0.0000  0.000000  0.000000  \n",
       "NNP  0.000000  0.000000      0.0000  0.000000      0.0000  0.000000  0.000000  \n",
       "RB   0.000000  0.166667      0.0000  0.000000      0.0000  0.000000  0.000000  \n",
       "VBN  0.000000  0.000000      0.0000  0.000000      0.0000  0.000000  0.000000  \n",
       "JJ   0.000000  0.000000      0.0625  0.000000      0.0625  0.000000  0.000000  \n",
       "IN   0.000000  0.000000      0.0000  0.000000      0.0000  0.000000  0.000000  \n",
       "VB   0.000000  0.000000      0.0000  0.000000      0.0000  0.000000  0.000000  \n",
       "EX   0.000000  0.000000      0.0000  0.000000      0.0000  0.000000  0.000000  \n",
       "VBZ  0.000000  0.000000      0.0000  0.000000      0.0000  0.000000  0.000000  \n",
       "JJR  0.000000  0.000000      0.0000  0.000000      0.0000  0.000000  0.000000  \n",
       "\n",
       "[13 rows x 69 columns]"
      ]
     },
     "metadata": {},
     "output_type": "display_data"
    }
   ],
   "source": [
    "# Converting the matrix to a dataframe for better readability\n",
    "\n",
    "emi_df = pd.DataFrame(emi_matrix, columns = list(words), index=list(tags))\n",
    "display(emi_df)\n"
   ]
  },
  {
   "cell_type": "markdown",
   "id": "b16ee45b",
   "metadata": {},
   "source": [
    "##### Transition probability"
   ]
  },
  {
   "cell_type": "code",
   "execution_count": 50,
   "id": "9ffcafa2",
   "metadata": {},
   "outputs": [],
   "source": [
    "# Computing Transition probability\n",
    "\n",
    "def trans_prob(t2, t1, train_bag = tagged_words):\n",
    "    tags = [pair[1] for pair in train_bag]\n",
    "    count_t1 = len([t for t in tags if t==t1])\n",
    "    count_t2_t1 = 0\n",
    "    for index in range(len(tags)-1):\n",
    "        if tags[index]==t1 and tags[index+1] == t2:\n",
    "            count_t2_t1 += 1\n",
    "\n",
    "    return (count_t2_t1, count_t1)\n"
   ]
  },
  {
   "cell_type": "code",
   "execution_count": 51,
   "id": "6ba8eaef",
   "metadata": {},
   "outputs": [],
   "source": [
    "# Defining a module to create transition matrix of tags\n",
    "\n",
    "def trans_matx(tags):\n",
    "    tags_matrix = np.zeros((len(tags), len(tags)), dtype='float32')\n",
    "    for i, t1 in enumerate(list(tags)):\n",
    "        for j, t2 in enumerate(list(tags)): \n",
    "            tags_matrix[i, j] = trans_prob(t2, t1)[0]/trans_prob(t2, t1)[1]\n",
    "    \n",
    "    return tags_matrix\n"
   ]
  },
  {
   "cell_type": "code",
   "execution_count": 52,
   "id": "a0c5f056",
   "metadata": {},
   "outputs": [],
   "source": [
    "# Calling module to create t x t transition matrix of tags, t = no of tags\n",
    "\n",
    "tags_matrix = trans_matx(tags)\n"
   ]
  },
  {
   "cell_type": "code",
   "execution_count": 53,
   "id": "3de123f4",
   "metadata": {},
   "outputs": [],
   "source": [
    "# Defining a module for plotting transition probability\n",
    "\n",
    "def plot_trans_matx(tags_matrix, tags):\n",
    "    plt.figure(figsize=(10, 6))\n",
    "    plt.imshow(tags_matrix, cmap='Spectral', interpolation='nearest', aspect='auto')\n",
    "\n",
    "    plt.xticks(np.arange(len(tags)), tags, rotation=90)\n",
    "    plt.yticks(np.arange(len(tags)), tags)\n",
    "\n",
    "    cbar = plt.colorbar()\n",
    "    cbar.set_label('Transition Probability')\n",
    "\n",
    "    plt.title('HMM Transition Probabilities')\n",
    "    plt.tight_layout()\n",
    "    plt.show()"
   ]
  },
  {
   "cell_type": "code",
   "execution_count": 54,
   "id": "ed91d250",
   "metadata": {},
   "outputs": [
    {
     "data": {
      "image/png": "[encoded data removed]",
      "text/plain": [
       "<Figure size 1000x600 with 2 Axes>"
      ]
     },
     "metadata": {},
     "output_type": "display_data"
    }
   ],
   "source": [
    "# Calling module for plotting transition probability\n",
    "\n",
    "plot_trans_matx(tags_matrix, tags)\n"
   ]
  },
  {
   "cell_type": "code",
   "execution_count": 55,
   "id": "77162e08",
   "metadata": {},
   "outputs": [
    {
     "data": {
      "text/html": [
       "<div>\n",
       "<style scoped>\n",
       "    .dataframe tbody tr th:only-of-type {\n",
       "        vertical-align: middle;\n",
       "    }\n",
       "\n",
       "    .dataframe tbody tr th {\n",
       "        vertical-align: top;\n",
       "    }\n",
       "\n",
       "    .dataframe thead th {\n",
       "        text-align: right;\n",
       "    }\n",
       "</style>\n",
       "<table border=\"1\" class=\"dataframe\">\n",
       "  <thead>\n",
       "    <tr style=\"text-align: right;\">\n",
       "      <th></th>\n",
       "      <th>CD</th>\n",
       "      <th>NN</th>\n",
       "      <th>VBD</th>\n",
       "      <th>VBG</th>\n",
       "      <th>NNP</th>\n",
       "      <th>RB</th>\n",
       "      <th>VBN</th>\n",
       "      <th>JJ</th>\n",
       "      <th>IN</th>\n",
       "      <th>VB</th>\n",
       "      <th>EX</th>\n",
       "      <th>VBZ</th>\n",
       "      <th>JJR</th>\n",
       "    </tr>\n",
       "  </thead>\n",
       "  <tbody>\n",
       "    <tr>\n",
       "      <th>CD</th>\n",
       "      <td>0.000000</td>\n",
       "      <td>0.500000</td>\n",
       "      <td>0.000000</td>\n",
       "      <td>0.000000</td>\n",
       "      <td>0.500000</td>\n",
       "      <td>0.000000</td>\n",
       "      <td>0.000000</td>\n",
       "      <td>0.000000</td>\n",
       "      <td>0.000000</td>\n",
       "      <td>0.000000</td>\n",
       "      <td>0.000000</td>\n",
       "      <td>0.000000</td>\n",
       "      <td>0.000000</td>\n",
       "    </tr>\n",
       "    <tr>\n",
       "      <th>NN</th>\n",
       "      <td>0.000000</td>\n",
       "      <td>0.294118</td>\n",
       "      <td>0.088235</td>\n",
       "      <td>0.117647</td>\n",
       "      <td>0.000000</td>\n",
       "      <td>0.117647</td>\n",
       "      <td>0.058824</td>\n",
       "      <td>0.235294</td>\n",
       "      <td>0.029412</td>\n",
       "      <td>0.029412</td>\n",
       "      <td>0.000000</td>\n",
       "      <td>0.000000</td>\n",
       "      <td>0.029412</td>\n",
       "    </tr>\n",
       "    <tr>\n",
       "      <th>VBD</th>\n",
       "      <td>0.000000</td>\n",
       "      <td>0.000000</td>\n",
       "      <td>0.000000</td>\n",
       "      <td>0.333333</td>\n",
       "      <td>0.333333</td>\n",
       "      <td>0.333333</td>\n",
       "      <td>0.000000</td>\n",
       "      <td>0.000000</td>\n",
       "      <td>0.000000</td>\n",
       "      <td>0.000000</td>\n",
       "      <td>0.000000</td>\n",
       "      <td>0.000000</td>\n",
       "      <td>0.000000</td>\n",
       "    </tr>\n",
       "    <tr>\n",
       "      <th>VBG</th>\n",
       "      <td>0.142857</td>\n",
       "      <td>0.428571</td>\n",
       "      <td>0.000000</td>\n",
       "      <td>0.000000</td>\n",
       "      <td>0.000000</td>\n",
       "      <td>0.000000</td>\n",
       "      <td>0.000000</td>\n",
       "      <td>0.428571</td>\n",
       "      <td>0.000000</td>\n",
       "      <td>0.000000</td>\n",
       "      <td>0.000000</td>\n",
       "      <td>0.000000</td>\n",
       "      <td>0.000000</td>\n",
       "    </tr>\n",
       "    <tr>\n",
       "      <th>NNP</th>\n",
       "      <td>0.000000</td>\n",
       "      <td>0.750000</td>\n",
       "      <td>0.000000</td>\n",
       "      <td>0.000000</td>\n",
       "      <td>0.000000</td>\n",
       "      <td>0.000000</td>\n",
       "      <td>0.000000</td>\n",
       "      <td>0.000000</td>\n",
       "      <td>0.000000</td>\n",
       "      <td>0.000000</td>\n",
       "      <td>0.000000</td>\n",
       "      <td>0.000000</td>\n",
       "      <td>0.000000</td>\n",
       "    </tr>\n",
       "    <tr>\n",
       "      <th>RB</th>\n",
       "      <td>0.000000</td>\n",
       "      <td>0.000000</td>\n",
       "      <td>0.000000</td>\n",
       "      <td>0.166667</td>\n",
       "      <td>0.166667</td>\n",
       "      <td>0.166667</td>\n",
       "      <td>0.166667</td>\n",
       "      <td>0.000000</td>\n",
       "      <td>0.000000</td>\n",
       "      <td>0.000000</td>\n",
       "      <td>0.166667</td>\n",
       "      <td>0.166667</td>\n",
       "      <td>0.000000</td>\n",
       "    </tr>\n",
       "    <tr>\n",
       "      <th>VBN</th>\n",
       "      <td>0.000000</td>\n",
       "      <td>0.666667</td>\n",
       "      <td>0.000000</td>\n",
       "      <td>0.000000</td>\n",
       "      <td>0.000000</td>\n",
       "      <td>0.000000</td>\n",
       "      <td>0.000000</td>\n",
       "      <td>0.333333</td>\n",
       "      <td>0.000000</td>\n",
       "      <td>0.000000</td>\n",
       "      <td>0.000000</td>\n",
       "      <td>0.000000</td>\n",
       "      <td>0.000000</td>\n",
       "    </tr>\n",
       "    <tr>\n",
       "      <th>JJ</th>\n",
       "      <td>0.000000</td>\n",
       "      <td>0.687500</td>\n",
       "      <td>0.000000</td>\n",
       "      <td>0.000000</td>\n",
       "      <td>0.062500</td>\n",
       "      <td>0.000000</td>\n",
       "      <td>0.000000</td>\n",
       "      <td>0.250000</td>\n",
       "      <td>0.000000</td>\n",
       "      <td>0.000000</td>\n",
       "      <td>0.000000</td>\n",
       "      <td>0.000000</td>\n",
       "      <td>0.000000</td>\n",
       "    </tr>\n",
       "    <tr>\n",
       "      <th>IN</th>\n",
       "      <td>0.000000</td>\n",
       "      <td>0.000000</td>\n",
       "      <td>0.000000</td>\n",
       "      <td>1.000000</td>\n",
       "      <td>0.000000</td>\n",
       "      <td>0.000000</td>\n",
       "      <td>0.000000</td>\n",
       "      <td>0.000000</td>\n",
       "      <td>0.000000</td>\n",
       "      <td>0.000000</td>\n",
       "      <td>0.000000</td>\n",
       "      <td>0.000000</td>\n",
       "      <td>0.000000</td>\n",
       "    </tr>\n",
       "    <tr>\n",
       "      <th>VB</th>\n",
       "      <td>0.000000</td>\n",
       "      <td>1.000000</td>\n",
       "      <td>0.000000</td>\n",
       "      <td>0.000000</td>\n",
       "      <td>0.000000</td>\n",
       "      <td>0.000000</td>\n",
       "      <td>0.000000</td>\n",
       "      <td>0.000000</td>\n",
       "      <td>0.000000</td>\n",
       "      <td>0.000000</td>\n",
       "      <td>0.000000</td>\n",
       "      <td>0.000000</td>\n",
       "      <td>0.000000</td>\n",
       "    </tr>\n",
       "    <tr>\n",
       "      <th>EX</th>\n",
       "      <td>0.000000</td>\n",
       "      <td>1.000000</td>\n",
       "      <td>0.000000</td>\n",
       "      <td>0.000000</td>\n",
       "      <td>0.000000</td>\n",
       "      <td>0.000000</td>\n",
       "      <td>0.000000</td>\n",
       "      <td>0.000000</td>\n",
       "      <td>0.000000</td>\n",
       "      <td>0.000000</td>\n",
       "      <td>0.000000</td>\n",
       "      <td>0.000000</td>\n",
       "      <td>0.000000</td>\n",
       "    </tr>\n",
       "    <tr>\n",
       "      <th>VBZ</th>\n",
       "      <td>0.000000</td>\n",
       "      <td>1.000000</td>\n",
       "      <td>0.000000</td>\n",
       "      <td>0.000000</td>\n",
       "      <td>0.000000</td>\n",
       "      <td>0.000000</td>\n",
       "      <td>0.000000</td>\n",
       "      <td>0.000000</td>\n",
       "      <td>0.000000</td>\n",
       "      <td>0.000000</td>\n",
       "      <td>0.000000</td>\n",
       "      <td>0.000000</td>\n",
       "      <td>0.000000</td>\n",
       "    </tr>\n",
       "    <tr>\n",
       "      <th>JJR</th>\n",
       "      <td>0.000000</td>\n",
       "      <td>1.000000</td>\n",
       "      <td>0.000000</td>\n",
       "      <td>0.000000</td>\n",
       "      <td>0.000000</td>\n",
       "      <td>0.000000</td>\n",
       "      <td>0.000000</td>\n",
       "      <td>0.000000</td>\n",
       "      <td>0.000000</td>\n",
       "      <td>0.000000</td>\n",
       "      <td>0.000000</td>\n",
       "      <td>0.000000</td>\n",
       "      <td>0.000000</td>\n",
       "    </tr>\n",
       "  </tbody>\n",
       "</table>\n",
       "</div>"
      ],
      "text/plain": [
       "           CD        NN       VBD       VBG       NNP        RB       VBN  \\\n",
       "CD   0.000000  0.500000  0.000000  0.000000  0.500000  0.000000  0.000000   \n",
       "NN   0.000000  0.294118  0.088235  0.117647  0.000000  0.117647  0.058824   \n",
       "VBD  0.000000  0.000000  0.000000  0.333333  0.333333  0.333333  0.000000   \n",
       "VBG  0.142857  0.428571  0.000000  0.000000  0.000000  0.000000  0.000000   \n",
       "NNP  0.000000  0.750000  0.000000  0.000000  0.000000  0.000000  0.000000   \n",
       "RB   0.000000  0.000000  0.000000  0.166667  0.166667  0.166667  0.166667   \n",
       "VBN  0.000000  0.666667  0.000000  0.000000  0.000000  0.000000  0.000000   \n",
       "JJ   0.000000  0.687500  0.000000  0.000000  0.062500  0.000000  0.000000   \n",
       "IN   0.000000  0.000000  0.000000  1.000000  0.000000  0.000000  0.000000   \n",
       "VB   0.000000  1.000000  0.000000  0.000000  0.000000  0.000000  0.000000   \n",
       "EX   0.000000  1.000000  0.000000  0.000000  0.000000  0.000000  0.000000   \n",
       "VBZ  0.000000  1.000000  0.000000  0.000000  0.000000  0.000000  0.000000   \n",
       "JJR  0.000000  1.000000  0.000000  0.000000  0.000000  0.000000  0.000000   \n",
       "\n",
       "           JJ        IN        VB        EX       VBZ       JJR  \n",
       "CD   0.000000  0.000000  0.000000  0.000000  0.000000  0.000000  \n",
       "NN   0.235294  0.029412  0.029412  0.000000  0.000000  0.029412  \n",
       "VBD  0.000000  0.000000  0.000000  0.000000  0.000000  0.000000  \n",
       "VBG  0.428571  0.000000  0.000000  0.000000  0.000000  0.000000  \n",
       "NNP  0.000000  0.000000  0.000000  0.000000  0.000000  0.000000  \n",
       "RB   0.000000  0.000000  0.000000  0.166667  0.166667  0.000000  \n",
       "VBN  0.333333  0.000000  0.000000  0.000000  0.000000  0.000000  \n",
       "JJ   0.250000  0.000000  0.000000  0.000000  0.000000  0.000000  \n",
       "IN   0.000000  0.000000  0.000000  0.000000  0.000000  0.000000  \n",
       "VB   0.000000  0.000000  0.000000  0.000000  0.000000  0.000000  \n",
       "EX   0.000000  0.000000  0.000000  0.000000  0.000000  0.000000  \n",
       "VBZ  0.000000  0.000000  0.000000  0.000000  0.000000  0.000000  \n",
       "JJR  0.000000  0.000000  0.000000  0.000000  0.000000  0.000000  "
      ]
     },
     "metadata": {},
     "output_type": "display_data"
    }
   ],
   "source": [
    "# Converting the matrix to a dataframe for better readability\n",
    "\n",
    "trans_df = pd.DataFrame(tags_matrix, columns = list(tags), index=list(tags))\n",
    "display(trans_df)\n"
   ]
  },
  {
   "cell_type": "markdown",
   "id": "e2cab2a1",
   "metadata": {},
   "source": [
    "##### Summary and conclusion :\n",
    "\n",
    "1. Loaded the imdb dataset into pandas dataframe\n",
    "2. Performed statistical analysis and distribution plotting of the sentiment column of the dataset\n",
    "3. Storing postive and negative reviews in 'pos' and 'neg' list respectively\n",
    "4. Added a label column - class to dataset that represent sentiment as numeric values\n",
    "5. Performed suggested data cleaning steps (removal of punctuations and stopwords)\n",
    "6. Performed text normalization by using both stemming and lemmatization for comparision and further chose lemmatization because of better accuracy\n",
    "7. Created two objects X ('review') and y ('class') and splitted the data into training and testing sets. Created a CountVectorizer object trained a MultinomialNB model for classifying the reviews \n",
    "8. Displayed the confusion matrix, classification report and roc curve\n",
    "9. Displayed the POS tagging, HMM Emission Probabilities and HMM Transition Probabilities\n",
    "\n",
    "So overall we are getting better performance as evident from accuracy score of the model and ROC AUC curve."
   ]
  },
  {
   "cell_type": "code",
   "execution_count": null,
   "id": "13f83432",
   "metadata": {},
   "outputs": [],
   "source": []
  }
 ],
 "metadata": {
  "kernelspec": {
   "display_name": "Python 3 (ipykernel)",
   "language": "python",
   "name": "python3"
  },
  "language_info": {
   "codemirror_mode": {
    "name": "ipython",
    "version": 3
   },
   "file_extension": ".py",
   "mimetype": "text/x-python",
   "name": "python",
   "nbconvert_exporter": "python",
   "pygments_lexer": "ipython3",
   "version": "3.9.13"
  }
 },
 "nbformat": 4,
 "nbformat_minor": 5
}
